
<!-- saved from url=(0126)https://dle.plymouth.ac.uk/pluginfile.php/3334202/mod_resource/content/1/Day%2009%20-%20Basic%20Inferential%20Statistics.ipynb -->
<html><head><meta http-equiv="Content-Type" content="text/html; charset=UTF-8"></head><body>{
 "cells": [
  {
   "cell_type": "markdown",
   "id": "95231e92",
   "metadata": {},
   "source": [
    "## Basic Descriptive Statistics"
   ]
  },
  {
   "cell_type": "code",
   "execution_count": 1,
   "id": "491b2fca",
   "metadata": {},
   "outputs": [
    {
     "name": "stderr",
     "output_type": "stream",
     "text": [
      "C:\\Users\\HP\\anaconda3\\lib\\site-packages\\scipy\\__init__.py:146: UserWarning: A NumPy version &gt;=1.17.3 and &lt;1.25.0 is required for this version of SciPy (detected version 1.26.4\n",
      "  warnings.warn(f\"A NumPy version &gt;={np_minversion} and &lt;{np_maxversion}\"\n"
     ]
    }
   ],
   "source": [
    "import pandas as pd\n",
    "import numpy as np\n",
    "import seaborn as sns\n",
    "import matplotlib.pyplot as plt\n",
    "from sklearn.model_selection import train_test_split\n",
    "from pandas.core.common import random_state\n",
    "from sklearn.linear_model import LinearRegression\n",
    "from sklearn.metrics import mean_squared_error,r2_score"
   ]
  },
  {
   "cell_type": "code",
   "execution_count": 2,
   "id": "7b9457b2",
   "metadata": {},
   "outputs": [],
   "source": [
    "df = pd.read_csv(r\"C:\\Users\\HP\\Desktop\\PUSL2077-Practical Code\\Datasets\\srilanka covid data.csv\")"
   ]
  },
  {
   "cell_type": "code",
   "execution_count": 3,
   "id": "0823173e",
   "metadata": {},
   "outputs": [
    {
     "data": {
      "text/html": [
       "<div>\n",
       "<style scoped="">\n",
       "    .dataframe tbody tr th:only-of-type {\n",
       "        vertical-align: middle;\n",
       "    }\n",
       "\n",
       "    .dataframe tbody tr th {\n",
       "        vertical-align: top;\n",
       "    }\n",
       "\n",
       "    .dataframe thead th {\n",
       "        text-align: right;\n",
       "    }\n",
       "</style>\n",
       "\n",
       "  \n",
       "    \n",
       "      \n",
       "      \n",
       "      \n",
       "      \n",
       "      \n",
       "      \n",
       "      \n",
       "      \n",
       "      \n",
       "      \n",
       "      \n",
       "      \n",
       "      \n",
       "      \n",
       "      \n",
       "      \n",
       "      \n",
       "      \n",
       "      \n",
       "      \n",
       "      \n",
       "      \n",
       "    \n",
       "  \n",
       "  \n",
       "    \n",
       "      \n",
       "      \n",
       "      \n",
       "      \n",
       "      \n",
       "      \n",
       "      \n",
       "      \n",
       "      \n",
       "      \n",
       "      \n",
       "      \n",
       "      \n",
       "      \n",
       "      \n",
       "      \n",
       "      \n",
       "      \n",
       "      \n",
       "      \n",
       "      \n",
       "      \n",
       "    \n",
       "    \n",
       "      \n",
       "      \n",
       "      \n",
       "      \n",
       "      \n",
       "      \n",
       "      \n",
       "      \n",
       "      \n",
       "      \n",
       "      \n",
       "      \n",
       "      \n",
       "      \n",
       "      \n",
       "      \n",
       "      \n",
       "      \n",
       "      \n",
       "      \n",
       "      \n",
       "      \n",
       "    \n",
       "    \n",
       "      \n",
       "      \n",
       "      \n",
       "      \n",
       "      \n",
       "      \n",
       "      \n",
       "      \n",
       "      \n",
       "      \n",
       "      \n",
       "      \n",
       "      \n",
       "      \n",
       "      \n",
       "      \n",
       "      \n",
       "      \n",
       "      \n",
       "      \n",
       "      \n",
       "      \n",
       "    \n",
       "    \n",
       "      \n",
       "      \n",
       "      \n",
       "      \n",
       "      \n",
       "      \n",
       "      \n",
       "      \n",
       "      \n",
       "      \n",
       "      \n",
       "      \n",
       "      \n",
       "      \n",
       "      \n",
       "      \n",
       "      \n",
       "      \n",
       "      \n",
       "      \n",
       "      \n",
       "      \n",
       "    \n",
       "    \n",
       "      \n",
       "      \n",
       "      \n",
       "      \n",
       "      \n",
       "      \n",
       "      \n",
       "      \n",
       "      \n",
       "      \n",
       "      \n",
       "      \n",
       "      \n",
       "      \n",
       "      \n",
       "      \n",
       "      \n",
       "      \n",
       "      \n",
       "      \n",
       "      \n",
       "      \n",
       "    \n",
       "  \n",
       "<table border="\&quot;1\&quot;" class="\&quot;dataframe\&quot;"><thead><tr style="\&quot;text-align:" right;\"=""><th></th><th>iso_code</th><th>continent</th><th>location</th><th>date</th><th>time line</th><th>total_cases</th><th>new_cases</th><th>new_cases_smoothed</th><th>total_deaths</th><th>new_deaths</th><th>...</th><th>gdp_per_capita</th><th>extreme_poverty</th><th>cardiovasc_death_rate</th><th>diabetes_prevalence</th><th>female_smokers</th><th>male_smokers</th><th>handwashing_facilities</th><th>hospital_beds_per_thousand</th><th>life_expectancy</th><th>human_development_index</th></tr></thead><tbody><tr><th>0</th><td>LKA</td><td>Asia</td><td>Sri Lanka</td><td>1/27/2020</td><td>1</td><td>1</td><td>1</td><td>NaN</td><td>NaN</td><td>NaN</td><td>...</td><td>11669.077</td><td>0.7</td><td>197.093</td><td>10.68</td><td>0.3</td><td>27</td><td>NaN</td><td>3.6</td><td>76.98</td><td>0.782</td></tr><tr><th>1</th><td>LKA</td><td>Asia</td><td>Sri Lanka</td><td>1/28/2020</td><td>2</td><td>1</td><td>0</td><td>NaN</td><td>NaN</td><td>NaN</td><td>...</td><td>11669.077</td><td>0.7</td><td>197.093</td><td>10.68</td><td>0.3</td><td>27</td><td>NaN</td><td>3.6</td><td>76.98</td><td>0.782</td></tr><tr><th>2</th><td>LKA</td><td>Asia</td><td>Sri Lanka</td><td>1/29/2020</td><td>3</td><td>1</td><td>0</td><td>NaN</td><td>NaN</td><td>NaN</td><td>...</td><td>11669.077</td><td>0.7</td><td>197.093</td><td>10.68</td><td>0.3</td><td>27</td><td>NaN</td><td>3.6</td><td>76.98</td><td>0.782</td></tr><tr><th>3</th><td>LKA</td><td>Asia</td><td>Sri Lanka</td><td>1/30/2020</td><td>4</td><td>1</td><td>0</td><td>NaN</td><td>NaN</td><td>NaN</td><td>...</td><td>11669.077</td><td>0.7</td><td>197.093</td><td>10.68</td><td>0.3</td><td>27</td><td>NaN</td><td>3.6</td><td>76.98</td><td>0.782</td></tr><tr><th>4</th><td>LKA</td><td>Asia</td><td>Sri Lanka</td><td>1/31/2020</td><td>5</td><td>1</td><td>0</td><td>NaN</td><td>NaN</td><td>NaN</td><td>...</td><td>11669.077</td><td>0.7</td><td>197.093</td><td>10.68</td><td>0.3</td><td>27</td><td>NaN</td><td>3.6</td><td>76.98</td><td>0.782</td></tr></tbody></table>\n",
       "<p>5 rows × 60 columns</p>\n",
       "</div>"
      ],
      "text/plain": [
       "  iso_code continent   location       date  time line  total_cases  new_cases  \\\n",
       "0      LKA      Asia  Sri Lanka  1/27/2020          1            1          1   \n",
       "1      LKA      Asia  Sri Lanka  1/28/2020          2            1          0   \n",
       "2      LKA      Asia  Sri Lanka  1/29/2020          3            1          0   \n",
       "3      LKA      Asia  Sri Lanka  1/30/2020          4            1          0   \n",
       "4      LKA      Asia  Sri Lanka  1/31/2020          5            1          0   \n",
       "\n",
       "   new_cases_smoothed  total_deaths  new_deaths  ...  gdp_per_capita  \\\n",
       "0                 NaN           NaN         NaN  ...       11669.077   \n",
       "1                 NaN           NaN         NaN  ...       11669.077   \n",
       "2                 NaN           NaN         NaN  ...       11669.077   \n",
       "3                 NaN           NaN         NaN  ...       11669.077   \n",
       "4                 NaN           NaN         NaN  ...       11669.077   \n",
       "\n",
       "   extreme_poverty  cardiovasc_death_rate  diabetes_prevalence  \\\n",
       "0              0.7                197.093                10.68   \n",
       "1              0.7                197.093                10.68   \n",
       "2              0.7                197.093                10.68   \n",
       "3              0.7                197.093                10.68   \n",
       "4              0.7                197.093                10.68   \n",
       "\n",
       "   female_smokers  male_smokers  handwashing_facilities  \\\n",
       "0             0.3            27                     NaN   \n",
       "1             0.3            27                     NaN   \n",
       "2             0.3            27                     NaN   \n",
       "3             0.3            27                     NaN   \n",
       "4             0.3            27                     NaN   \n",
       "\n",
       "   hospital_beds_per_thousand  life_expectancy  human_development_index  \n",
       "0                         3.6            76.98                    0.782  \n",
       "1                         3.6            76.98                    0.782  \n",
       "2                         3.6            76.98                    0.782  \n",
       "3                         3.6            76.98                    0.782  \n",
       "4                         3.6            76.98                    0.782  \n",
       "\n",
       "[5 rows x 60 columns]"
      ]
     },
     "execution_count": 3,
     "metadata": {},
     "output_type": "execute_result"
    }
   ],
   "source": [
    "df.head()"
   ]
  },
  {
   "cell_type": "code",
   "execution_count": 4,
   "id": "3055a392",
   "metadata": {
    "scrolled": true
   },
   "outputs": [
    {
     "data": {
      "text/html": [
       "<div>\n",
       "<style scoped="">\n",
       "    .dataframe tbody tr th:only-of-type {\n",
       "        vertical-align: middle;\n",
       "    }\n",
       "\n",
       "    .dataframe tbody tr th {\n",
       "        vertical-align: top;\n",
       "    }\n",
       "\n",
       "    .dataframe thead th {\n",
       "        text-align: right;\n",
       "    }\n",
       "</style>\n",
       "\n",
       "  \n",
       "    \n",
       "      \n",
       "      \n",
       "      \n",
       "      \n",
       "      \n",
       "      \n",
       "      \n",
       "      \n",
       "      \n",
       "      \n",
       "      \n",
       "      \n",
       "      \n",
       "      \n",
       "      \n",
       "      \n",
       "      \n",
       "      \n",
       "      \n",
       "      \n",
       "      \n",
       "      \n",
       "    \n",
       "  \n",
       "  \n",
       "    \n",
       "      \n",
       "      \n",
       "      \n",
       "      \n",
       "      \n",
       "      \n",
       "      \n",
       "      \n",
       "      \n",
       "      \n",
       "      \n",
       "      \n",
       "      \n",
       "      \n",
       "      \n",
       "      \n",
       "      \n",
       "      \n",
       "      \n",
       "      \n",
       "      \n",
       "      \n",
       "    \n",
       "    \n",
       "      \n",
       "      \n",
       "      \n",
       "      \n",
       "      \n",
       "      \n",
       "      \n",
       "      \n",
       "      \n",
       "      \n",
       "      \n",
       "      \n",
       "      \n",
       "      \n",
       "      \n",
       "      \n",
       "      \n",
       "      \n",
       "      \n",
       "      \n",
       "      \n",
       "      \n",
       "    \n",
       "    \n",
       "      \n",
       "      \n",
       "      \n",
       "      \n",
       "      \n",
       "      \n",
       "      \n",
       "      \n",
       "      \n",
       "      \n",
       "      \n",
       "      \n",
       "      \n",
       "      \n",
       "      \n",
       "      \n",
       "      \n",
       "      \n",
       "      \n",
       "      \n",
       "      \n",
       "      \n",
       "    \n",
       "    \n",
       "      \n",
       "      \n",
       "      \n",
       "      \n",
       "      \n",
       "      \n",
       "      \n",
       "      \n",
       "      \n",
       "      \n",
       "      \n",
       "      \n",
       "      \n",
       "      \n",
       "      \n",
       "      \n",
       "      \n",
       "      \n",
       "      \n",
       "      \n",
       "      \n",
       "      \n",
       "    \n",
       "    \n",
       "      \n",
       "      \n",
       "      \n",
       "      \n",
       "      \n",
       "      \n",
       "      \n",
       "      \n",
       "      \n",
       "      \n",
       "      \n",
       "      \n",
       "      \n",
       "      \n",
       "      \n",
       "      \n",
       "      \n",
       "      \n",
       "      \n",
       "      \n",
       "      \n",
       "      \n",
       "    \n",
       "    \n",
       "      \n",
       "      \n",
       "      \n",
       "      \n",
       "      \n",
       "      \n",
       "      \n",
       "      \n",
       "      \n",
       "      \n",
       "      \n",
       "      \n",
       "      \n",
       "      \n",
       "      \n",
       "      \n",
       "      \n",
       "      \n",
       "      \n",
       "      \n",
       "      \n",
       "      \n",
       "    \n",
       "    \n",
       "      \n",
       "      \n",
       "      \n",
       "      \n",
       "      \n",
       "      \n",
       "      \n",
       "      \n",
       "      \n",
       "      \n",
       "      \n",
       "      \n",
       "      \n",
       "      \n",
       "      \n",
       "      \n",
       "      \n",
       "      \n",
       "      \n",
       "      \n",
       "      \n",
       "      \n",
       "    \n",
       "    \n",
       "      \n",
       "      \n",
       "      \n",
       "      \n",
       "      \n",
       "      \n",
       "      \n",
       "      \n",
       "      \n",
       "      \n",
       "      \n",
       "      \n",
       "      \n",
       "      \n",
       "      \n",
       "      \n",
       "      \n",
       "      \n",
       "      \n",
       "      \n",
       "      \n",
       "      \n",
       "    \n",
       "  \n",
       "<table border="\&quot;1\&quot;" class="\&quot;dataframe\&quot;"><thead><tr style="\&quot;text-align:" right;\"=""><th></th><th>time line</th><th>total_cases</th><th>new_cases</th><th>new_cases_smoothed</th><th>total_deaths</th><th>new_deaths</th><th>new_deaths_smoothed</th><th>total_cases_per_million</th><th>new_cases_per_million</th><th>new_cases_smoothed_per_million</th><th>...</th><th>gdp_per_capita</th><th>extreme_poverty</th><th>cardiovasc_death_rate</th><th>diabetes_prevalence</th><th>female_smokers</th><th>male_smokers</th><th>handwashing_facilities</th><th>hospital_beds_per_thousand</th><th>life_expectancy</th><th>human_development_index</th></tr></thead><tbody><tr><th>count</th><td>461.000000</td><td>461.000000</td><td>461.000000</td><td>456.000000</td><td>400.000000</td><td>400.00000</td><td>456.000000</td><td>461.000000</td><td>461.000000</td><td>456.000000</td><td>...</td><td>4.610000e+02</td><td>4.610000e+02</td><td>461.000</td><td>4.610000e+02</td><td>4.610000e+02</td><td>461.0</td><td>0.0</td><td>4.610000e+02</td><td>461.00</td><td>461.000</td></tr><tr><th>mean</th><td>231.000000</td><td>25275.407809</td><td>238.312364</td><td>230.790090</td><td>159.842500</td><td>1.71750</td><td>1.448325</td><td>1180.363024</td><td>11.129219</td><td>10.777908</td><td>...</td><td>1.166908e+04</td><td>7.000000e-01</td><td>197.093</td><td>1.068000e+01</td><td>3.000000e-01</td><td>27.0</td><td>NaN</td><td>3.600000e+00</td><td>76.98</td><td>0.782</td></tr><tr><th>std</th><td>133.223496</td><td>34311.244210</td><td>311.024985</td><td>282.873668</td><td>211.899921</td><td>2.67218</td><td>1.904914</td><td>1602.337048</td><td>14.524857</td><td>13.210200</td><td>...</td><td>1.820965e-12</td><td>1.111429e-16</td><td>0.000</td><td>3.556573e-15</td><td>1.111429e-16</td><td>0.0</td><td>NaN</td><td>8.891433e-16</td><td>0.00</td><td>0.000</td></tr><tr><th>min</th><td>1.000000</td><td>1.000000</td><td>0.000000</td><td>0.000000</td><td>1.000000</td><td>0.00000</td><td>0.000000</td><td>0.047000</td><td>0.000000</td><td>0.000000</td><td>...</td><td>1.166908e+04</td><td>7.000000e-01</td><td>197.093</td><td>1.068000e+01</td><td>3.000000e-01</td><td>27.0</td><td>NaN</td><td>3.600000e+00</td><td>76.98</td><td>0.782</td></tr><tr><th>25%</th><td>116.000000</td><td>1055.000000</td><td>6.000000</td><td>7.857000</td><td>11.000000</td><td>0.00000</td><td>0.000000</td><td>49.269000</td><td>0.280000</td><td>0.367000</td><td>...</td><td>1.166908e+04</td><td>7.000000e-01</td><td>197.093</td><td>1.068000e+01</td><td>3.000000e-01</td><td>27.0</td><td>NaN</td><td>3.600000e+00</td><td>76.98</td><td>0.782</td></tr><tr><th>50%</th><td>231.000000</td><td>3234.000000</td><td>35.000000</td><td>39.285500</td><td>13.000000</td><td>0.00000</td><td>0.143000</td><td>151.028000</td><td>1.635000</td><td>1.834500</td><td>...</td><td>1.166908e+04</td><td>7.000000e-01</td><td>197.093</td><td>1.068000e+01</td><td>3.000000e-01</td><td>27.0</td><td>NaN</td><td>3.600000e+00</td><td>76.98</td><td>0.782</td></tr><tr><th>75%</th><td>346.000000</td><td>46248.000000</td><td>459.000000</td><td>450.786000</td><td>276.500000</td><td>3.00000</td><td>2.857000</td><td>2159.784000</td><td>21.435000</td><td>21.051750</td><td>...</td><td>1.166908e+04</td><td>7.000000e-01</td><td>197.093</td><td>1.068000e+01</td><td>3.000000e-01</td><td>27.0</td><td>NaN</td><td>3.600000e+00</td><td>76.98</td><td>0.782</td></tr><tr><th>max</th><td>461.000000</td><td>109862.000000</td><td>1716.000000</td><td>1325.143000</td><td>687.000000</td><td>17.00000</td><td>7.286000</td><td>5130.562000</td><td>80.137000</td><td>61.884000</td><td>...</td><td>1.166908e+04</td><td>7.000000e-01</td><td>197.093</td><td>1.068000e+01</td><td>3.000000e-01</td><td>27.0</td><td>NaN</td><td>3.600000e+00</td><td>76.98</td><td>0.782</td></tr></tbody></table>\n",
       "<p>8 rows × 55 columns</p>\n",
       "</div>"
      ],
      "text/plain": [
       "        time line    total_cases    new_cases  new_cases_smoothed  \\\n",
       "count  461.000000     461.000000   461.000000          456.000000   \n",
       "mean   231.000000   25275.407809   238.312364          230.790090   \n",
       "std    133.223496   34311.244210   311.024985          282.873668   \n",
       "min      1.000000       1.000000     0.000000            0.000000   \n",
       "25%    116.000000    1055.000000     6.000000            7.857000   \n",
       "50%    231.000000    3234.000000    35.000000           39.285500   \n",
       "75%    346.000000   46248.000000   459.000000          450.786000   \n",
       "max    461.000000  109862.000000  1716.000000         1325.143000   \n",
       "\n",
       "       total_deaths  new_deaths  new_deaths_smoothed  total_cases_per_million  \\\n",
       "count    400.000000   400.00000           456.000000               461.000000   \n",
       "mean     159.842500     1.71750             1.448325              1180.363024   \n",
       "std      211.899921     2.67218             1.904914              1602.337048   \n",
       "min        1.000000     0.00000             0.000000                 0.047000   \n",
       "25%       11.000000     0.00000             0.000000                49.269000   \n",
       "50%       13.000000     0.00000             0.143000               151.028000   \n",
       "75%      276.500000     3.00000             2.857000              2159.784000   \n",
       "max      687.000000    17.00000             7.286000              5130.562000   \n",
       "\n",
       "       new_cases_per_million  new_cases_smoothed_per_million  ...  \\\n",
       "count             461.000000                      456.000000  ...   \n",
       "mean               11.129219                       10.777908  ...   \n",
       "std                14.524857                       13.210200  ...   \n",
       "min                 0.000000                        0.000000  ...   \n",
       "25%                 0.280000                        0.367000  ...   \n",
       "50%                 1.635000                        1.834500  ...   \n",
       "75%                21.435000                       21.051750  ...   \n",
       "max                80.137000                       61.884000  ...   \n",
       "\n",
       "       gdp_per_capita  extreme_poverty  cardiovasc_death_rate  \\\n",
       "count    4.610000e+02     4.610000e+02                461.000   \n",
       "mean     1.166908e+04     7.000000e-01                197.093   \n",
       "std      1.820965e-12     1.111429e-16                  0.000   \n",
       "min      1.166908e+04     7.000000e-01                197.093   \n",
       "25%      1.166908e+04     7.000000e-01                197.093   \n",
       "50%      1.166908e+04     7.000000e-01                197.093   \n",
       "75%      1.166908e+04     7.000000e-01                197.093   \n",
       "max      1.166908e+04     7.000000e-01                197.093   \n",
       "\n",
       "       diabetes_prevalence  female_smokers  male_smokers  \\\n",
       "count         4.610000e+02    4.610000e+02         461.0   \n",
       "mean          1.068000e+01    3.000000e-01          27.0   \n",
       "std           3.556573e-15    1.111429e-16           0.0   \n",
       "min           1.068000e+01    3.000000e-01          27.0   \n",
       "25%           1.068000e+01    3.000000e-01          27.0   \n",
       "50%           1.068000e+01    3.000000e-01          27.0   \n",
       "75%           1.068000e+01    3.000000e-01          27.0   \n",
       "max           1.068000e+01    3.000000e-01          27.0   \n",
       "\n",
       "       handwashing_facilities  hospital_beds_per_thousand  life_expectancy  \\\n",
       "count                     0.0                4.610000e+02           461.00   \n",
       "mean                      NaN                3.600000e+00            76.98   \n",
       "std                       NaN                8.891433e-16             0.00   \n",
       "min                       NaN                3.600000e+00            76.98   \n",
       "25%                       NaN                3.600000e+00            76.98   \n",
       "50%                       NaN                3.600000e+00            76.98   \n",
       "75%                       NaN                3.600000e+00            76.98   \n",
       "max                       NaN                3.600000e+00            76.98   \n",
       "\n",
       "       human_development_index  \n",
       "count                  461.000  \n",
       "mean                     0.782  \n",
       "std                      0.000  \n",
       "min                      0.782  \n",
       "25%                      0.782  \n",
       "50%                      0.782  \n",
       "75%                      0.782  \n",
       "max                      0.782  \n",
       "\n",
       "[8 rows x 55 columns]"
      ]
     },
     "execution_count": 4,
     "metadata": {},
     "output_type": "execute_result"
    }
   ],
   "source": [
    "df.describe()"
   ]
  },
  {
   "cell_type": "markdown",
   "id": "6c8e1467",
   "metadata": {},
   "source": [
    "## Give out a brief explanation regarding the above descriptive statistics conderign the main varaibles which affects on the research objective."
   ]
  },
  {
   "cell_type": "markdown",
   "id": "e1aecc9b",
   "metadata": {},
   "source": [
    "## Basic Inferential Statistics"
   ]
  },
  {
   "cell_type": "markdown",
   "id": "a32d6019",
   "metadata": {},
   "source": [
    "### 2.1 Correlation Analysis"
   ]
  },
  {
   "cell_type": "markdown",
   "id": "8583217b",
   "metadata": {},
   "source": [
    "- Correlation/Association is the relationship between two or more variables.\n",
    "- Correlation tests are below:\n",
    "    1. Pearson Correlation Coefficient - Numerical Variables \n",
    "        - The Pearson Correlation Coefficient is a popular correlation coefficient that measures the linear relationship between 2 variables.The correlation test tests if the relationship between these variables is statistically significant.\n",
    "    2. Chi Square Independence Test - Categorical variables\n",
    "        - Determine if the relationship between two categorical variables is significant."
   ]
  },
  {
   "cell_type": "code",
   "execution_count": 22,
   "id": "719eb626",
   "metadata": {},
   "outputs": [
    {
     "ename": "SyntaxError",
     "evalue": "invalid non-printable character U+202F (2673110484.py, line 1)",
     "output_type": "error",
     "traceback": [
      "\u001b[1;36m  Input \u001b[1;32mIn [22]\u001b[1;36m\u001b[0m\n\u001b[1;33m    def palindrome(string):\u001b[0m\n\u001b[1;37m       ^\u001b[0m\n\u001b[1;31mSyntaxError\u001b[0m\u001b[1;31m:\u001b[0m invalid non-printable character U+202F\n"
     ]
    }
   ],
   "source": [
    "def palindrome(string): \n",
    "    if (string == string[::-1]) : \n",
    "        return \"The string is a palindrome.\" \n",
    "    else: \n",
    "        return \"The string is not a palindrome\""
   ]
  },
  {
   "cell_type": "code",
   "execution_count": 27,
   "id": "b79e88d6",
   "metadata": {},
   "outputs": [
    {
     "ename": "IndentationError",
     "evalue": "expected an indented block (1462350228.py, line 1)",
     "output_type": "error",
     "traceback": [
      "\u001b[1;36m  Input \u001b[1;32mIn [27]\u001b[1;36m\u001b[0m\n\u001b[1;33m    def palin(string):\u001b[0m\n\u001b[1;37m                      ^\u001b[0m\n\u001b[1;31mIndentationError\u001b[0m\u001b[1;31m:\u001b[0m expected an indented block\n"
     ]
    }
   ],
   "source": [
    "def palin(string):"
   ]
  },
  {
   "cell_type": "markdown",
   "id": "4cbf41d1",
   "metadata": {},
   "source": [
    "### Pearson Correlation Coefficient"
   ]
  },
  {
   "cell_type": "markdown",
   "id": "f7d61b9e",
   "metadata": {},
   "source": [
    "#### Example 01:\n",
    "Relationship between test scores and exam scores can be tested using Pearson correlation"
   ]
  },
  {
   "cell_type": "code",
   "execution_count": 5,
   "id": "f7cb428a",
   "metadata": {
    "scrolled": true
   },
   "outputs": [
    {
     "name": "stdout",
     "output_type": "stream",
     "text": [
      "(0.9699027194808526, 3.4619011945598957e-06)\n"
     ]
    }
   ],
   "source": [
    "import scipy.stats as stats\n",
    "test_scores = [15, 16, 12, 13, 18, 12, 10, 8, 7, 15]\n",
    "exam_scores = [72, 68, 60, 54, 89, 50, 40, 34, 32, 73 ]\n",
    "corr = stats.pearsonr(test_scores, exam_scores)\n",
    "print (corr) \n",
    "\n",
    "# The correlation coefficient is 0.97 (Strong Postive Correlation)\n",
    "# The pvalue &lt; 0.05 (Correlation is statistically significant)\n",
    "#There is a strong relationship between test scores and exam scores."
   ]
  },
  {
   "cell_type": "markdown",
   "id": "06104096",
   "metadata": {},
   "source": [
    "### Chi-Square Independence Test"
   ]
  },
  {
   "cell_type": "markdown",
   "id": "00fa5498",
   "metadata": {},
   "source": [
    "#### Example 02:\n",
    "The use of aspirin to prevent cardiovascular events in women and men was investigated.The following table summarizes the results of the experiment in which participants took aspirin or a placebo on a regular basis for several years. Cases of ischemic stroke were recorded as follows:\n",
    "\n",
    "  \n",
    "    \n",
    "    \n",
    "    \n",
    "  \n",
    "  \n",
    "    \n",
    "    \n",
    "    \n",
    "  \n",
    "  \n",
    "    \n",
    "    \n",
    "    \n",
    "  \n",
    "<table><tbody><tr><th></th><th>Aspirin</th><th>Control/Placebo</th></tr><tr><td>Ischemic stroke</td><td>176</td><td>230</td></tr><tr><td>No stroke</td><td>21035</td><td>21018</td></tr></tbody></table>\n",
    "\n",
    "Is there evidence that the aspirin reduces the risk of ischemic stroke?"
   ]
  },
  {
   "cell_type": "markdown",
   "id": "fbb5398f",
   "metadata": {},
   "source": [
    "Step 01: Developing Hypoethses"
   ]
  },
  {
   "cell_type": "markdown",
   "id": "cdc937b0",
   "metadata": {},
   "source": [
    "- H0: The effect of aspirin is equivalent to that of placebo.\n",
    "- H1: The effect of aspirin is not equivalent to that of placebo."
   ]
  },
  {
   "cell_type": "markdown",
   "id": "f74a893c",
   "metadata": {},
   "source": [
    "Step 02: Test Statistic "
   ]
  },
  {
   "cell_type": "code",
   "execution_count": 6,
   "id": "c2bab88a",
   "metadata": {},
   "outputs": [
    {
     "data": {
      "text/plain": [
       "(6.892569132546561, 0.008655478161175739)"
      ]
     },
     "execution_count": 6,
     "metadata": {},
     "output_type": "execute_result"
    }
   ],
   "source": [
    "import numpy as np\n",
    "from scipy.stats import chi2_contingency\n",
    "table = np.array([[176, 230], [21035, 21018]])\n",
    "chi2_stat = chi2_contingency(table)\n",
    "chi2_stat_statistic = chi2_stat[0]\n",
    "chi2_stat_pvalue = chi2_stat[1]\n",
    "value = chi2_stat_statistic,chi2_stat_pvalue\n",
    "value"
   ]
  },
  {
   "cell_type": "markdown",
   "id": "5b7a9870",
   "metadata": {},
   "source": [
    "Step 03: Decision"
   ]
  },
  {
   "cell_type": "markdown",
   "id": "04c6c68a",
   "metadata": {},
   "source": [
    "- If the p value is less than the considering significance level we have enough evidence to reject null hypothesis\n",
    "- If the p value is greater than considering significance level we don't have enough evidence to reject null hypothesis\n",
    "\n",
    "Decision - Since the p value is 0.008 which is less than 0.05, we have enough evidence to reject null hypothesis."
   ]
  },
  {
   "cell_type": "markdown",
   "id": "439c2d06",
   "metadata": {},
   "source": [
    "Step 04: Conclusion"
   ]
  },
  {
   "cell_type": "markdown",
   "id": "6c200238",
   "metadata": {},
   "source": [
    "The effect of aspirin is not equivalent to that of placebo."
   ]
  },
  {
   "cell_type": "markdown",
   "id": "79bd0241",
   "metadata": {},
   "source": [
    "## 2.2 Regression Analysis"
   ]
  },
  {
   "cell_type": "markdown",
   "id": "87956545",
   "metadata": {},
   "source": [
    "### Assumptions of Linear Regression:\n"
   ]
  },
  {
   "cell_type": "markdown",
   "id": "d6087ea5",
   "metadata": {},
   "source": [
    "Linear regression is an analysis that assesses whether one or more predictor variables explain the dependent (target) variable.  The regression has five key assumptions:\n",
    "- Linear relationship\n",
    "- Multivariate normality\n",
    "- No or little multicollinearity\n",
    "- No auto-correlation\n",
    "- Homoscedasticity"
   ]
  },
  {
   "cell_type": "markdown",
   "id": "61d4458a",
   "metadata": {},
   "source": [
    "- Let's check the Linearity assumption"
   ]
  },
  {
   "cell_type": "code",
   "execution_count": 7,
   "id": "4a74ba58",
   "metadata": {},
   "outputs": [],
   "source": [
    "df_2 = pd.read_csv(r\"C:\\Users\\HP\\Downloads\\Salary_Data.csv\")"
   ]
  },
  {
   "cell_type": "code",
   "execution_count": 8,
   "id": "314ad54e",
   "metadata": {},
   "outputs": [
    {
     "data": {
      "text/plain": [
       "YearsExperience    float64\n",
       "Salary             float64\n",
       "dtype: object"
      ]
     },
     "execution_count": 8,
     "metadata": {},
     "output_type": "execute_result"
    }
   ],
   "source": [
    "df_2.dtypes"
   ]
  },
  {
   "cell_type": "code",
   "execution_count": 9,
   "id": "80a42449",
   "metadata": {
    "scrolled": true
   },
   "outputs": [
    {
     "name": "stderr",
     "output_type": "stream",
     "text": [
      "C:\\Users\\HP\\anaconda3\\lib\\site-packages\\seaborn\\distributions.py:2619: FutureWarning: `distplot` is a deprecated function and will be removed in a future version. Please adapt your code to use either `displot` (a figure-level function with similar flexibility) or `histplot` (an axes-level function for histograms).\n",
      "  warnings.warn(msg, FutureWarning)\n"
     ]
    },
    {
     "data": {
      "text/plain": [
       "<axessubplot:xlabel='salary', ylabel="Density">"
      ]
     },
     "execution_count": 9,
     "metadata": {},
     "output_type": "execute_result"
    },
    {
     "data": {
      "image/png": "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\n",
      "text/plain": [
       "<figure size="" 432x288="" with="" 1="" axes="">"
      ]
     },
     "metadata": {
      "needs_background": "light"
     },
     "output_type": "display_data"
    }
   ],
   "source": [
    "sns.distplot(df_2['Salary']) #checking the distribution of the variable"
   ]
  },
  {
   "cell_type": "code",
   "execution_count": 10,
   "id": "fbb9c476",
   "metadata": {
    "scrolled": true
   },
   "outputs": [
    {
     "data": {
      "text/plain": [
       "<axessubplot:xlabel='yearsexperience', ylabel="Salary">"
      ]
     },
     "execution_count": 10,
     "metadata": {},
     "output_type": "execute_result"
    },
    {
     "data": {
      "image/png": "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\n",
      "text/plain": [
       "<figure size="" 432x288="" with="" 1="" axes="">"
      ]
     },
     "metadata": {
      "needs_background": "light"
     },
     "output_type": "display_data"
    }
   ],
   "source": [
    "sns.scatterplot(x=df_2['YearsExperience'],y=df_2['Salary'])"
   ]
  },
  {
   "cell_type": "markdown",
   "id": "713d3820",
   "metadata": {},
   "source": [
    "Step 4: Split the dataset into dependent/independent variables"
   ]
  },
  {
   "cell_type": "code",
   "execution_count": 11,
   "id": "7ceed0b3",
   "metadata": {},
   "outputs": [],
   "source": [
    "# Splitting variables\n",
    "X = df_2.iloc[:, :1]  # independent\n",
    "y = df_2.iloc[:, 1:]  # dependent"
   ]
  },
  {
   "cell_type": "markdown",
   "id": "3f77abc9",
   "metadata": {},
   "source": [
    "Step 4: Split data into Train/Test sets"
   ]
  },
  {
   "cell_type": "code",
   "execution_count": 12,
   "id": "439504c7",
   "metadata": {},
   "outputs": [],
   "source": [
    "# Splitting dataset into test/train\n",
    "X_train, X_test, y_train, y_test = train_test_split(X, y, test_size = 0.2, random_state = 0)"
   ]
  },
  {
   "cell_type": "markdown",
   "id": "1aa30592",
   "metadata": {},
   "source": [
    "Step 5: Train the regression model"
   ]
  },
  {
   "cell_type": "code",
   "execution_count": 13,
   "id": "f83b5652",
   "metadata": {},
   "outputs": [
    {
     "data": {
      "text/html": [
       "<style>#sk-container-id-1 {color: black;background-color: white;}#sk-container-id-1 pre{padding: 0;}#sk-container-id-1 div.sk-toggleable {background-color: white;}#sk-container-id-1 label.sk-toggleable__label {cursor: pointer;display: block;width: 100%;margin-bottom: 0;padding: 0.3em;box-sizing: border-box;text-align: center;}#sk-container-id-1 label.sk-toggleable__label-arrow:before {content: \"▸\";float: left;margin-right: 0.25em;color: #696969;}#sk-container-id-1 label.sk-toggleable__label-arrow:hover:before {color: black;}#sk-container-id-1 div.sk-estimator:hover label.sk-toggleable__label-arrow:before {color: black;}#sk-container-id-1 div.sk-toggleable__content {max-height: 0;max-width: 0;overflow: hidden;text-align: left;background-color: #f0f8ff;}#sk-container-id-1 div.sk-toggleable__content pre {margin: 0.2em;color: black;border-radius: 0.25em;background-color: #f0f8ff;}#sk-container-id-1 input.sk-toggleable__control:checked~div.sk-toggleable__content {max-height: 200px;max-width: 100%;overflow: auto;}#sk-container-id-1 input.sk-toggleable__control:checked~label.sk-toggleable__label-arrow:before {content: \"▾\";}#sk-container-id-1 div.sk-estimator input.sk-toggleable__control:checked~label.sk-toggleable__label {background-color: #d4ebff;}#sk-container-id-1 div.sk-label input.sk-toggleable__control:checked~label.sk-toggleable__label {background-color: #d4ebff;}#sk-container-id-1 input.sk-hidden--visually {border: 0;clip: rect(1px 1px 1px 1px);clip: rect(1px, 1px, 1px, 1px);height: 1px;margin: -1px;overflow: hidden;padding: 0;position: absolute;width: 1px;}#sk-container-id-1 div.sk-estimator {font-family: monospace;background-color: #f0f8ff;border: 1px dotted black;border-radius: 0.25em;box-sizing: border-box;margin-bottom: 0.5em;}#sk-container-id-1 div.sk-estimator:hover {background-color: #d4ebff;}#sk-container-id-1 div.sk-parallel-item::after {content: \"\";width: 100%;border-bottom: 1px solid gray;flex-grow: 1;}#sk-container-id-1 div.sk-label:hover label.sk-toggleable__label {background-color: #d4ebff;}#sk-container-id-1 div.sk-serial::before {content: \"\";position: absolute;border-left: 1px solid gray;box-sizing: border-box;top: 0;bottom: 0;left: 50%;z-index: 0;}#sk-container-id-1 div.sk-serial {display: flex;flex-direction: column;align-items: center;background-color: white;padding-right: 0.2em;padding-left: 0.2em;position: relative;}#sk-container-id-1 div.sk-item {position: relative;z-index: 1;}#sk-container-id-1 div.sk-parallel {display: flex;align-items: stretch;justify-content: center;background-color: white;position: relative;}#sk-container-id-1 div.sk-item::before, #sk-container-id-1 div.sk-parallel-item::before {content: \"\";position: absolute;border-left: 1px solid gray;box-sizing: border-box;top: 0;bottom: 0;left: 50%;z-index: -1;}#sk-container-id-1 div.sk-parallel-item {display: flex;flex-direction: column;z-index: 1;position: relative;background-color: white;}#sk-container-id-1 div.sk-parallel-item:first-child::after {align-self: flex-end;width: 50%;}#sk-container-id-1 div.sk-parallel-item:last-child::after {align-self: flex-start;width: 50%;}#sk-container-id-1 div.sk-parallel-item:only-child::after {width: 0;}#sk-container-id-1 div.sk-dashed-wrapped {border: 1px dashed gray;margin: 0 0.4em 0.5em 0.4em;box-sizing: border-box;padding-bottom: 0.4em;background-color: white;}#sk-container-id-1 div.sk-label label {font-family: monospace;font-weight: bold;display: inline-block;line-height: 1.2em;}#sk-container-id-1 div.sk-label-container {text-align: center;}#sk-container-id-1 div.sk-container {/* jupyter's `normalize.less` sets `[hidden] { display: none; }` but bootstrap.min.css set `[hidden] { display: none !important; }` so we also need the `!important` here to be able to override the default hidden behavior on the sphinx rendered scikit-learn.org. See: https://github.com/scikit-learn/scikit-learn/issues/21755 */display: inline-block !important;position: relative;}#sk-container-id-1 div.sk-text-repr-fallback {display: none;}</style><div id="\&quot;sk-container-id-1\&quot;" class="\&quot;sk-top-container\&quot;"><div class="\&quot;sk-text-repr-fallback\&quot;"><pre>LinearRegression()</pre><b>In a Jupyter environment, please rerun this cell to show the HTML representation or trust the notebook. <br>On GitHub, the HTML representation is unable to render, please try loading this page with nbviewer.org.</b></div><div class="\&quot;sk-container\&quot;" hidden=""><div class="\&quot;sk-item\&quot;"><div class="\&quot;sk-estimator" sk-toggleable\"=""><input class="\&quot;sk-toggleable__control" sk-hidden--visually\"="" id="\&quot;sk-estimator-id-1\&quot;" type="\&quot;checkbox\&quot;" checked=""><label for="\&quot;sk-estimator-id-1\&quot;" class="\&quot;sk-toggleable__label" sk-toggleable__label-arrow\"="">LinearRegression</label><div class="\&quot;sk-toggleable__content\&quot;"><pre>LinearRegression()</pre></div></div></div></div></div>"
      ],
      "text/plain": [
       "LinearRegression()"
      ]
     },
     "execution_count": 13,
     "metadata": {},
     "output_type": "execute_result"
    }
   ],
   "source": [
    "# Regressor model\n",
    "regressor = LinearRegression()\n",
    "regressor.fit(X_train, y_train)"
   ]
  },
  {
   "cell_type": "markdown",
   "id": "0becbf1f",
   "metadata": {},
   "source": [
    "Step 6: Predict the result"
   ]
  },
  {
   "cell_type": "code",
   "execution_count": 14,
   "id": "cb47f637",
   "metadata": {},
   "outputs": [],
   "source": [
    "# Prediction result\n",
    "y_pred_test = regressor.predict(X_test)     # predicted value of y_test\n",
    "y_pred_train = regressor.predict(X_train)   # predicted value of y_train"
   ]
  },
  {
   "cell_type": "markdown",
   "id": "b8e228b5",
   "metadata": {},
   "source": [
    "Step 7: Plot the training and test results"
   ]
  },
  {
   "cell_type": "markdown",
   "id": "35e7e065",
   "metadata": {},
   "source": [
    "- Plot <b>training set data</b> vs <b>predictions</b>"
   ]
  },
  {
   "cell_type": "code",
   "execution_count": 15,
   "id": "c2cb6ad2",
   "metadata": {
    "scrolled": true
   },
   "outputs": [
    {
     "data": {
      "image/png": "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\n",
      "text/plain": [
       "<figure size="" 432x288="" with="" 1="" axes="">"
      ]
     },
     "metadata": {
      "needs_background": "light"
     },
     "output_type": "display_data"
    }
   ],
   "source": [
    "# Prediction on training set\n",
    "plt.scatter(X_train, y_train, color = 'lightcoral')\n",
    "plt.plot(X_train, y_pred_train, color = 'firebrick')\n",
    "plt.title('Salary vs Experience (Training Set)')\n",
    "plt.xlabel('Years of Experience')\n",
    "plt.ylabel('Salary')\n",
    "plt.legend(['X_train/Pred(y_test)', 'X_train/y_train'], title = 'Sal/Exp', loc='best', facecolor='white')\n",
    "plt.box(False)\n",
    "plt.show()"
   ]
  },
  {
   "cell_type": "markdown",
   "id": "6f94ce25",
   "metadata": {},
   "source": [
    "- Plot <b>test set data</b> vs <b>predictions</b>"
   ]
  },
  {
   "cell_type": "code",
   "execution_count": 16,
   "id": "131411f4",
   "metadata": {},
   "outputs": [
    {
     "data": {
      "image/png": "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\n",
      "text/plain": [
       "<figure size="" 432x288="" with="" 1="" axes="">"
      ]
     },
     "metadata": {
      "needs_background": "light"
     },
     "output_type": "display_data"
    }
   ],
   "source": [
    "# Prediction on test set\n",
    "plt.scatter(X_test, y_test, color = 'lightcoral')\n",
    "plt.plot(X_train, y_pred_train, color = 'firebrick')\n",
    "plt.title('Salary vs Experience (Test Set)')\n",
    "plt.xlabel('Years of Experience')\n",
    "plt.ylabel('Salary')\n",
    "plt.legend(['X_train/Pred(y_test)', 'X_train/y_train'], title = 'Sal/Exp', loc='best', facecolor='white')\n",
    "plt.box(False)\n",
    "plt.show()"
   ]
  },
  {
   "cell_type": "code",
   "execution_count": 17,
   "id": "987213f6",
   "metadata": {
    "scrolled": true
   },
   "outputs": [
    {
     "name": "stdout",
     "output_type": "stream",
     "text": [
      "Coefficient: [[9312.57512673]]\n",
      "Intercept: [26780.09915063]\n"
     ]
    }
   ],
   "source": [
    "# Regressor coefficients and intercept\n",
    "print(f'Coefficient: {regressor.coef_}')\n",
    "print(f'Intercept: {regressor.intercept_}')"
   ]
  },
  {
   "cell_type": "markdown",
   "id": "4865181f",
   "metadata": {},
   "source": [
    "![flat Name space](https://miro.medium.com/v2/resize:fit:640/format:webp/0*ETA9RDpIYl3YXntA)"
   ]
  },
  {
   "cell_type": "markdown",
   "id": "27b40fd5",
   "metadata": {},
   "source": [
    "Step 07: Checking the model accuracy"
   ]
  },
  {
   "cell_type": "code",
   "execution_count": 18,
   "id": "f84d4da9",
   "metadata": {},
   "outputs": [],
   "source": [
    "r_squared = r2_score(y_test,y_pred_test)"
   ]
  },
  {
   "cell_type": "code",
   "execution_count": 19,
   "id": "40bfd80a",
   "metadata": {},
   "outputs": [
    {
     "data": {
      "text/plain": [
       "0.988169515729126"
      ]
     },
     "execution_count": 19,
     "metadata": {},
     "output_type": "execute_result"
    }
   ],
   "source": [
    "r_squared"
   ]
  },
  {
   "cell_type": "markdown",
   "id": "3f4ccbb8",
   "metadata": {},
   "source": [
    "- Let's check the normality assumption in train data &amp; pred"
   ]
  },
  {
   "cell_type": "code",
   "execution_count": 20,
   "id": "be996aa3",
   "metadata": {
    "scrolled": true
   },
   "outputs": [
    {
     "name": "stdout",
     "output_type": "stream",
     "text": [
      "Mean of Residuals Salary    6.063298e-12\n",
      "dtype: float64\n"
     ]
    },
    {
     "name": "stderr",
     "output_type": "stream",
     "text": [
      "C:\\Users\\HP\\anaconda3\\lib\\site-packages\\numpy\\core\\fromnumeric.py:3502: FutureWarning: In a future version, DataFrame.mean(axis=None) will return a scalar mean over the entire DataFrame. To retain the old behavior, use 'frame.mean(axis=0)' or just 'frame.mean()'\n",
      "  return mean(axis=axis, dtype=dtype, out=out, **kwargs)\n"
     ]
    }
   ],
   "source": [
    "residuals = y_train-y_pred_train # use of df_2\n",
    "mean_residuals = np.mean(residuals)\n",
    "print(\"Mean of Residuals {}\".format(mean_residuals))"
   ]
  },
  {
   "cell_type": "markdown",
   "id": "0358870e",
   "metadata": {},
   "source": [
    "Very close to zero so good to go ahead"
   ]
  },
  {
   "cell_type": "markdown",
   "id": "63c38a94",
   "metadata": {},
   "source": [
    "- Let's check the multicollinearity assumption"
   ]
  },
  {
   "cell_type": "code",
   "execution_count": 21,
   "id": "f81cd51a",
   "metadata": {
    "scrolled": true
   },
   "outputs": [
    {
     "name": "stderr",
     "output_type": "stream",
     "text": [
      "C:\\Users\\HP\\anaconda3\\lib\\site-packages\\seaborn\\distributions.py:2619: FutureWarning: `distplot` is a deprecated function and will be removed in a future version. Please adapt your code to use either `displot` (a figure-level function with similar flexibility) or `histplot` (an axes-level function for histograms).\n",
      "  warnings.warn(msg, FutureWarning)\n"
     ]
    },
    {
     "data": {
      "image/png": "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\n",
      "text/plain": [
       "<figure size="" 432x288="" with="" 1="" axes="">"
      ]
     },
     "metadata": {
      "needs_background": "light"
     },
     "output_type": "display_data"
    }
   ],
   "source": [
    "p = sns.distplot(residuals,kde=True)\n",
    "p = plt.title('Normality of error terms/residuals')"
   ]
  },
  {
   "cell_type": "markdown",
   "id": "6f7975e3",
   "metadata": {},
   "source": [
    "- Checking for Multicollinearity"
   ]
  },
  {
   "cell_type": "code",
   "execution_count": 22,
   "id": "5aef74cb",
   "metadata": {},
   "outputs": [],
   "source": [
    "df_1 = pd.read_csv(r\"C:\\Users\\HP\\Downloads\\Advertising.csv\")"
   ]
  },
  {
   "cell_type": "code",
   "execution_count": 23,
   "id": "74128d11",
   "metadata": {
    "scrolled": true
   },
   "outputs": [
    {
     "data": {
      "image/png": "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\n",
      "text/plain": [
       "<figure size="" 1440x1440="" with="" 2="" axes="">"
      ]
     },
     "metadata": {
      "needs_background": "light"
     },
     "output_type": "display_data"
    }
   ],
   "source": [
    "plt.figure(figsize=(20,20))  # on this line I just set the size of figure to 12 by 10.\n",
    "p=sns.heatmap(df_1.corr(), annot=True,cmap='RdYlGn',square=True)  # seaborn has very simple solution for heatmap"
   ]
  },
  {
   "cell_type": "markdown",
   "id": "6dded05f",
   "metadata": {},
   "source": [
    "This data doesn't contain perfect multicollinearity among independent variables. In case there was any then we would try to remove one of the correlated variables depending on which was more important to our regression model."
   ]
  },
  {
   "cell_type": "code",
   "execution_count": 24,
   "id": "f87844ff",
   "metadata": {},
   "outputs": [
    {
     "ename": "NameError",
     "evalue": "name 'y_pred' is not defined",
     "output_type": "error",
     "traceback": [
      "\u001b[1;31m---------------------------------------------------------------------------\u001b[0m",
      "\u001b[1;31mNameError\u001b[0m                                 Traceback (most recent call last)",
      "Input \u001b[1;32mIn [24]\u001b[0m, in \u001b[0;36m<cell line:="" 1="">\u001b[1;34m()\u001b[0m\n\u001b[1;32m----&gt; 1\u001b[0m residuals \u001b[38;5;241m=\u001b[39m y_train\u001b[38;5;241m.\u001b[39mvalues\u001b[38;5;241m-\u001b[39m\u001b[43my_pred\u001b[49m\n\u001b[0;32m      2\u001b[0m mean_residuals \u001b[38;5;241m=\u001b[39m np\u001b[38;5;241m.\u001b[39mmean(residuals)\n\u001b[0;32m      3\u001b[0m \u001b[38;5;28mprint\u001b[39m(\u001b[38;5;124m\"\u001b[39m\u001b[38;5;124mMean of Residuals \u001b[39m\u001b[38;5;132;01m{}\u001b[39;00m\u001b[38;5;124m\"\u001b[39m\u001b[38;5;241m.\u001b[39mformat(mean_residuals))\n",
      "\u001b[1;31mNameError\u001b[0m: name 'y_pred' is not defined"
     ]
    }
   ],
   "source": [
    "residuals = y_train.values-y_pred\n",
    "mean_residuals = np.mean(residuals)\n",
    "print(\"Mean of Residuals {}\".format(mean_residuals))"
   ]
  },
  {
   "cell_type": "markdown",
   "id": "939fa485",
   "metadata": {},
   "source": [
    "The above fitted model is accurate and is suitable for further analysis."
   ]
  }
 ],
 "metadata": {
  "kernelspec": {
   "display_name": "Python 3 (ipykernel)",
   "language": "python",
   "name": "python3"
  },
  "language_info": {
   "codemirror_mode": {
    "name": "ipython",
    "version": 3
   },
   "file_extension": ".py",
   "mimetype": "text/x-python",
   "name": "python",
   "nbconvert_exporter": "python",
   "pygments_lexer": "ipython3",
   "version": "3.9.12"
  }
 },
 "nbformat": 4,
 "nbformat_minor": 5
}
</cell></figure></figure></figure></figure></figure></axessubplot:xlabel='yearsexperience',></figure></axessubplot:xlabel='salary',></body></html>