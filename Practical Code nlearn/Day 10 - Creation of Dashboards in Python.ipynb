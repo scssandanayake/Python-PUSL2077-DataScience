{
 "cells": [
  {
   "cell_type": "markdown",
   "id": "f9795750",
   "metadata": {},
   "source": [
    "<b>Dash</b> is a open source framework developed by Plotly to create analytical web applications in pure Python."
   ]
  },
  {
   "cell_type": "markdown",
   "id": "1bf7d2fa",
   "metadata": {},
   "source": [
    "Dash buidls the gap enabling data scientists and analysts to build interactive,aesthetic dashboards using python."
   ]
  },
  {
   "cell_type": "code",
   "execution_count": 1,
   "id": "c3772574",
   "metadata": {},
   "outputs": [],
   "source": [
    "import pandas as pd\n",
    "import numpy as np\n",
    "import matplotlib.pyplot as plt"
   ]
  },
  {
   "cell_type": "code",
   "execution_count": 2,
   "id": "9fd9c19b",
   "metadata": {},
   "outputs": [],
   "source": [
    "df = pd.read_csv(r\"C:\\Users\\HP\\Downloads\\netflix_titles.csv\")"
   ]
  },
  {
   "cell_type": "code",
   "execution_count": 3,
   "id": "627b993c",
   "metadata": {},
   "outputs": [
    {
     "data": {
      "text/html": [
       "<div>\n",
       "<style scoped>\n",
       "    .dataframe tbody tr th:only-of-type {\n",
       "        vertical-align: middle;\n",
       "    }\n",
       "\n",
       "    .dataframe tbody tr th {\n",
       "        vertical-align: top;\n",
       "    }\n",
       "\n",
       "    .dataframe thead th {\n",
       "        text-align: right;\n",
       "    }\n",
       "</style>\n",
       "<table border=\"1\" class=\"dataframe\">\n",
       "  <thead>\n",
       "    <tr style=\"text-align: right;\">\n",
       "      <th></th>\n",
       "      <th>show_id</th>\n",
       "      <th>type</th>\n",
       "      <th>title</th>\n",
       "      <th>director</th>\n",
       "      <th>cast</th>\n",
       "      <th>country</th>\n",
       "      <th>date_added</th>\n",
       "      <th>release_year</th>\n",
       "      <th>rating</th>\n",
       "      <th>duration</th>\n",
       "      <th>listed_in</th>\n",
       "      <th>description</th>\n",
       "    </tr>\n",
       "  </thead>\n",
       "  <tbody>\n",
       "    <tr>\n",
       "      <th>0</th>\n",
       "      <td>s1</td>\n",
       "      <td>Movie</td>\n",
       "      <td>Dick Johnson Is Dead</td>\n",
       "      <td>Kirsten Johnson</td>\n",
       "      <td>NaN</td>\n",
       "      <td>United States</td>\n",
       "      <td>September 25, 2021</td>\n",
       "      <td>2020</td>\n",
       "      <td>PG-13</td>\n",
       "      <td>90 min</td>\n",
       "      <td>Documentaries</td>\n",
       "      <td>As her father nears the end of his life, filmm...</td>\n",
       "    </tr>\n",
       "    <tr>\n",
       "      <th>1</th>\n",
       "      <td>s2</td>\n",
       "      <td>TV Show</td>\n",
       "      <td>Blood &amp; Water</td>\n",
       "      <td>NaN</td>\n",
       "      <td>Ama Qamata, Khosi Ngema, Gail Mabalane, Thaban...</td>\n",
       "      <td>South Africa</td>\n",
       "      <td>September 24, 2021</td>\n",
       "      <td>2021</td>\n",
       "      <td>TV-MA</td>\n",
       "      <td>2 Seasons</td>\n",
       "      <td>International TV Shows, TV Dramas, TV Mysteries</td>\n",
       "      <td>After crossing paths at a party, a Cape Town t...</td>\n",
       "    </tr>\n",
       "    <tr>\n",
       "      <th>2</th>\n",
       "      <td>s3</td>\n",
       "      <td>TV Show</td>\n",
       "      <td>Ganglands</td>\n",
       "      <td>Julien Leclercq</td>\n",
       "      <td>Sami Bouajila, Tracy Gotoas, Samuel Jouy, Nabi...</td>\n",
       "      <td>NaN</td>\n",
       "      <td>September 24, 2021</td>\n",
       "      <td>2021</td>\n",
       "      <td>TV-MA</td>\n",
       "      <td>1 Season</td>\n",
       "      <td>Crime TV Shows, International TV Shows, TV Act...</td>\n",
       "      <td>To protect his family from a powerful drug lor...</td>\n",
       "    </tr>\n",
       "    <tr>\n",
       "      <th>3</th>\n",
       "      <td>s4</td>\n",
       "      <td>TV Show</td>\n",
       "      <td>Jailbirds New Orleans</td>\n",
       "      <td>NaN</td>\n",
       "      <td>NaN</td>\n",
       "      <td>NaN</td>\n",
       "      <td>September 24, 2021</td>\n",
       "      <td>2021</td>\n",
       "      <td>TV-MA</td>\n",
       "      <td>1 Season</td>\n",
       "      <td>Docuseries, Reality TV</td>\n",
       "      <td>Feuds, flirtations and toilet talk go down amo...</td>\n",
       "    </tr>\n",
       "    <tr>\n",
       "      <th>4</th>\n",
       "      <td>s5</td>\n",
       "      <td>TV Show</td>\n",
       "      <td>Kota Factory</td>\n",
       "      <td>NaN</td>\n",
       "      <td>Mayur More, Jitendra Kumar, Ranjan Raj, Alam K...</td>\n",
       "      <td>India</td>\n",
       "      <td>September 24, 2021</td>\n",
       "      <td>2021</td>\n",
       "      <td>TV-MA</td>\n",
       "      <td>2 Seasons</td>\n",
       "      <td>International TV Shows, Romantic TV Shows, TV ...</td>\n",
       "      <td>In a city of coaching centers known to train I...</td>\n",
       "    </tr>\n",
       "  </tbody>\n",
       "</table>\n",
       "</div>"
      ],
      "text/plain": [
       "  show_id     type                  title         director  \\\n",
       "0      s1    Movie   Dick Johnson Is Dead  Kirsten Johnson   \n",
       "1      s2  TV Show          Blood & Water              NaN   \n",
       "2      s3  TV Show              Ganglands  Julien Leclercq   \n",
       "3      s4  TV Show  Jailbirds New Orleans              NaN   \n",
       "4      s5  TV Show           Kota Factory              NaN   \n",
       "\n",
       "                                                cast        country  \\\n",
       "0                                                NaN  United States   \n",
       "1  Ama Qamata, Khosi Ngema, Gail Mabalane, Thaban...   South Africa   \n",
       "2  Sami Bouajila, Tracy Gotoas, Samuel Jouy, Nabi...            NaN   \n",
       "3                                                NaN            NaN   \n",
       "4  Mayur More, Jitendra Kumar, Ranjan Raj, Alam K...          India   \n",
       "\n",
       "           date_added  release_year rating   duration  \\\n",
       "0  September 25, 2021          2020  PG-13     90 min   \n",
       "1  September 24, 2021          2021  TV-MA  2 Seasons   \n",
       "2  September 24, 2021          2021  TV-MA   1 Season   \n",
       "3  September 24, 2021          2021  TV-MA   1 Season   \n",
       "4  September 24, 2021          2021  TV-MA  2 Seasons   \n",
       "\n",
       "                                           listed_in  \\\n",
       "0                                      Documentaries   \n",
       "1    International TV Shows, TV Dramas, TV Mysteries   \n",
       "2  Crime TV Shows, International TV Shows, TV Act...   \n",
       "3                             Docuseries, Reality TV   \n",
       "4  International TV Shows, Romantic TV Shows, TV ...   \n",
       "\n",
       "                                         description  \n",
       "0  As her father nears the end of his life, filmm...  \n",
       "1  After crossing paths at a party, a Cape Town t...  \n",
       "2  To protect his family from a powerful drug lor...  \n",
       "3  Feuds, flirtations and toilet talk go down amo...  \n",
       "4  In a city of coaching centers known to train I...  "
      ]
     },
     "execution_count": 3,
     "metadata": {},
     "output_type": "execute_result"
    }
   ],
   "source": [
    "df.head()"
   ]
  },
  {
   "cell_type": "code",
   "execution_count": 4,
   "id": "d34af10a",
   "metadata": {},
   "outputs": [
    {
     "data": {
      "text/plain": [
       "(8807, 12)"
      ]
     },
     "execution_count": 4,
     "metadata": {},
     "output_type": "execute_result"
    }
   ],
   "source": [
    "df.shape"
   ]
  },
  {
   "cell_type": "markdown",
   "id": "cd50cf64",
   "metadata": {},
   "source": [
    "Objectives of performing a Dashboard for the following dataset:\n",
    "- Geographical Content Distribution\n",
    "- Content Classification"
   ]
  },
  {
   "cell_type": "code",
   "execution_count": 5,
   "id": "2205b21a",
   "metadata": {
    "scrolled": true
   },
   "outputs": [],
   "source": [
    "#pip install dash\n"
   ]
  },
  {
   "cell_type": "code",
   "execution_count": 6,
   "id": "d3afae24",
   "metadata": {},
   "outputs": [],
   "source": [
    "#pip install dash-bootstrap-components"
   ]
  },
  {
   "cell_type": "code",
   "execution_count": 7,
   "id": "3f95ad99",
   "metadata": {},
   "outputs": [],
   "source": [
    "#pip install plotly"
   ]
  },
  {
   "cell_type": "markdown",
   "id": "33c3a8ae",
   "metadata": {},
   "source": [
    "### Cleaning the dataset"
   ]
  },
  {
   "cell_type": "code",
   "execution_count": 8,
   "id": "88c8e7ba",
   "metadata": {},
   "outputs": [
    {
     "data": {
      "text/plain": [
       "show_id         object\n",
       "type            object\n",
       "title           object\n",
       "director        object\n",
       "cast            object\n",
       "country         object\n",
       "date_added      object\n",
       "release_year     int64\n",
       "rating          object\n",
       "duration        object\n",
       "listed_in       object\n",
       "description     object\n",
       "dtype: object"
      ]
     },
     "execution_count": 8,
     "metadata": {},
     "output_type": "execute_result"
    }
   ],
   "source": [
    "df.dtypes"
   ]
  },
  {
   "cell_type": "code",
   "execution_count": 9,
   "id": "829970e8",
   "metadata": {},
   "outputs": [],
   "source": [
    "df['director'].fillna('No director',inplace=True)"
   ]
  },
  {
   "cell_type": "code",
   "execution_count": 10,
   "id": "2c96f17b",
   "metadata": {},
   "outputs": [],
   "source": [
    "df['cast'].fillna('No cast',inplace=True)"
   ]
  },
  {
   "cell_type": "code",
   "execution_count": 11,
   "id": "575c2e42",
   "metadata": {},
   "outputs": [],
   "source": [
    "df['country'].fillna('No country',inplace=True)"
   ]
  },
  {
   "cell_type": "markdown",
   "id": "45397fc5",
   "metadata": {},
   "source": [
    "### Dropping off missing values"
   ]
  },
  {
   "cell_type": "code",
   "execution_count": 12,
   "id": "6b28a865",
   "metadata": {},
   "outputs": [],
   "source": [
    "df.dropna(inplace=True)"
   ]
  },
  {
   "cell_type": "code",
   "execution_count": 13,
   "id": "713269c5",
   "metadata": {},
   "outputs": [],
   "source": [
    "df.drop_duplicates(inplace=True)"
   ]
  },
  {
   "cell_type": "code",
   "execution_count": 14,
   "id": "1e87ec7b",
   "metadata": {},
   "outputs": [],
   "source": [
    "df['date_added']=pd.to_datetime(df['date_added'].str.strip())"
   ]
  },
  {
   "cell_type": "code",
   "execution_count": 15,
   "id": "87c736d8",
   "metadata": {},
   "outputs": [],
   "source": [
    "df.to_csv('netflix_titles.csv',index=False)"
   ]
  },
  {
   "cell_type": "markdown",
   "id": "cf7e729e",
   "metadata": {},
   "source": [
    "### Getting started with Dash"
   ]
  },
  {
   "cell_type": "code",
   "execution_count": 16,
   "id": "21f3518a",
   "metadata": {},
   "outputs": [],
   "source": [
    "from dash import Dash,dash_table,html"
   ]
  },
  {
   "cell_type": "code",
   "execution_count": 17,
   "id": "c7e0927f",
   "metadata": {},
   "outputs": [],
   "source": [
    "app = Dash(__name__)  #Initialize a Dash app"
   ]
  },
  {
   "cell_type": "code",
   "execution_count": 18,
   "id": "6f3624fa",
   "metadata": {},
   "outputs": [
    {
     "data": {
      "text/html": [
       "\n",
       "        <iframe\n",
       "            width=\"100%\"\n",
       "            height=\"650\"\n",
       "            src=\"http://127.0.0.1:8050/\"\n",
       "            frameborder=\"0\"\n",
       "            allowfullscreen\n",
       "            \n",
       "        ></iframe>\n",
       "        "
      ],
      "text/plain": [
       "<IPython.lib.display.IFrame at 0x1e901a65970>"
      ]
     },
     "metadata": {},
     "output_type": "display_data"
    }
   ],
   "source": [
    "app.layout = html.Div([\n",
    "    html.H1('Netflix Movies & TV shows Dashboard'),\n",
    "    html.Hr(),\n",
    "])\n",
    "\n",
    "if __name__ == '__main__':\n",
    "    app.run_server(debug=True)"
   ]
  },
  {
   "cell_type": "code",
   "execution_count": 19,
   "id": "20e34d82",
   "metadata": {},
   "outputs": [],
   "source": [
    "import pandas as pd\n",
    "import plotly.express as px\n",
    "from dash import dcc, html\n",
    "\n",
    "df = pd.read_csv('netflix_titles.csv')\n",
    "\n",
    "# Filter out entries without country information and if there are multiple production countries,\n",
    "# consider the first one as the production country\n",
    "df['country'] = df['country'].str.split(',').apply(lambda x: x[0].strip() if isinstance(x, list) else None)\n",
    "\n",
    "# Extract the year from the date_added column\n",
    "df['year_added'] = pd.to_datetime(df['date_added']).dt.year\n",
    "df = df.dropna(subset=['country', 'year_added'])\n",
    "\n",
    "# Compute the count of content produced by each country for each year\n",
    "df_counts = df.groupby(['country', 'year_added']).size().reset_index(name='count')\n",
    "\n",
    "# Sort the DataFrame by 'year_added' to ensure the animation frames are in ascending order\n",
    "df_counts = df_counts.sort_values('year_added')\n",
    "\n",
    "# Create the choropleth map with a slider for the year\n",
    "fig1 = px.choropleth(df_counts,\n",
    "                     locations='country',\n",
    "                     locationmode='country names',\n",
    "                     color='count',\n",
    "                     hover_name='country',\n",
    "                     animation_frame='year_added',\n",
    "                     projection='natural earth',\n",
    "                     title='Content produced by countries over the years',\n",
    "                     color_continuous_scale='YlGnBu',\n",
    "                     range_color=[0, df_counts['count'].max()])\n",
    "fig1.update_layout(width=1280, height=720, title_x=0.5)\n",
    "\n",
    "# Compute the count of content produced for each year by type and fill zeros for missing type-year pairs\n",
    "df_year_counts = df.groupby(['year_added', 'type']).size().reset_index(name='count')\n",
    "\n",
    "# Create the line chart using plotly express\n",
    "fig2 = px.line(df_year_counts, x='year_added', y='count', color='type',\n",
    "               title='Content distribution by type over the years',\n",
    "               markers=True, color_discrete_map={'Movie': 'dodgerblue', 'TV Show': 'darkblue'})\n",
    "fig2.update_traces(marker=dict(size=12))\n",
    "fig2.update_layout(width=1280, height=720, title_x=0.5)\n",
    "\n",
    "layout = html.Div([\n",
    "    dcc.Graph(figure=fig1),\n",
    "    html.Hr(),\n",
    "    dcc.Graph(figure=fig2)\n",
    "])"
   ]
  },
  {
   "cell_type": "code",
   "execution_count": 20,
   "id": "61b14bab",
   "metadata": {},
   "outputs": [],
   "source": [
    "import pandas as pd\n",
    "import plotly.express as px\n",
    "from dash import dcc, html\n",
    "\n",
    "df = pd.read_csv('netflix_titles.csv')\n",
    "\n",
    "# Split the listed_in column and explode to handle multiple genres\n",
    "df['listed_in'] = df['listed_in'].str.split(', ')\n",
    "df = df.explode('listed_in')\n",
    "\n",
    "# Compute the count of each combination of type and genre\n",
    "df_counts = df.groupby(['type', 'listed_in']).size().reset_index(name='count')\n",
    "\n",
    "fig = px.treemap(df_counts, path=['type', 'listed_in'], values='count', color='count',\n",
    "                 color_continuous_scale='Ice', title='Content by type and genre')\n",
    "\n",
    "fig.update_layout(width=1280, height=960, title_x=0.5)\n",
    "fig.update_traces(textinfo='label+percent entry', textfont_size=14)\n",
    "\n",
    "layout = html.Div([\n",
    "    dcc.Graph(figure=fig),\n",
    "])"
   ]
  }
 ],
 "metadata": {
  "kernelspec": {
   "display_name": "Python 3 (ipykernel)",
   "language": "python",
   "name": "python3"
  },
  "language_info": {
   "codemirror_mode": {
    "name": "ipython",
    "version": 3
   },
   "file_extension": ".py",
   "mimetype": "text/x-python",
   "name": "python",
   "nbconvert_exporter": "python",
   "pygments_lexer": "ipython3",
   "version": "3.9.12"
  }
 },
 "nbformat": 4,
 "nbformat_minor": 5
}
