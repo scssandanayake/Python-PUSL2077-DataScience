{
 "cells": [
  {
   "cell_type": "markdown",
   "id": "f0a8ff4a",
   "metadata": {},
   "source": [
    "# 01"
   ]
  },
  {
   "cell_type": "code",
   "execution_count": null,
   "id": "ee735e49",
   "metadata": {},
   "outputs": [],
   "source": [
    "name = input(\"Enter your name: \")\n",
    "age = input(\"Enter your age: \")\n",
    "batch = input(\"Ente your batch: \")\n",
    "\n",
    "print(f'Your name: {name} \\nYour age: {age} \\nYour batch: {batch}')"
   ]
  },
  {
   "cell_type": "markdown",
   "id": "26985ebd",
   "metadata": {},
   "source": [
    "# 02"
   ]
  },
  {
   "cell_type": "code",
   "execution_count": null,
   "id": "9d29bc6d",
   "metadata": {},
   "outputs": [],
   "source": [
    "print('this is letter \"A\"')"
   ]
  },
  {
   "cell_type": "code",
   "execution_count": null,
   "id": "64ffea5c",
   "metadata": {},
   "outputs": [],
   "source": [
    "print('this is backslash \"\\\\\"')"
   ]
  },
  {
   "cell_type": "markdown",
   "id": "50499994",
   "metadata": {},
   "source": [
    "# 03\n"
   ]
  },
  {
   "cell_type": "code",
   "execution_count": null,
   "id": "a2541d8c",
   "metadata": {},
   "outputs": [],
   "source": [
    "# this is a comment"
   ]
  },
  {
   "cell_type": "markdown",
   "id": "fc3085c7",
   "metadata": {},
   "source": [
    "# 04"
   ]
  },
  {
   "cell_type": "code",
   "execution_count": null,
   "id": "7b043a9f",
   "metadata": {},
   "outputs": [],
   "source": [
    "num1 = input(\"Enter a number: \")\n",
    "num2  = input(\"Enter a number: \")\n",
    "\n",
    "sum = num1 + num2\n",
    "\n",
    "print(f'num1 + num2 = {sum}')"
   ]
  },
  {
   "cell_type": "markdown",
   "id": "7aa351f8",
   "metadata": {},
   "source": [
    "# 05"
   ]
  },
  {
   "cell_type": "code",
   "execution_count": 2,
   "id": "cf82d406",
   "metadata": {},
   "outputs": [
    {
     "name": "stdout",
     "output_type": "stream",
     "text": [
      "Enter a number: 12\n",
      "Enter a number: 12\n",
      "Enter the operation(+ / - / * / /): -\n",
      "num1 - num2 = 0\n"
     ]
    }
   ],
   "source": [
    "num1 = int(input(\"Enter a number: \"))\n",
    "num2  = int(input(\"Enter a number: \"))\n",
    "op = input(\"Enter the operation(+ / - / * / /): \")\n",
    "\n",
    "def ope(num1 , num2, op):\n",
    "    if op == '+':\n",
    "       sum = num1 + num2\n",
    "    \n",
    "    elif op == '-':\n",
    "        sum = num1 - num2\n",
    "    \n",
    "    elif op == '*':\n",
    "        sum = num1 * num2\n",
    "    \n",
    "    elif op == '/':\n",
    "        sum = num1 / num2\n",
    "\n",
    "    else:\n",
    "        return print('Enter a valid operation!')\n",
    "        \n",
    "    return  sum \n",
    "\n",
    "\n",
    "        \n",
    "       \n",
    "print(f'num1 {op} num2 = {ope(num1 , num2, op)}') "
   ]
  },
  {
   "cell_type": "markdown",
   "id": "978e309e",
   "metadata": {},
   "source": [
    "# 06"
   ]
  },
  {
   "cell_type": "code",
   "execution_count": 3,
   "id": "069daa49",
   "metadata": {},
   "outputs": [
    {
     "name": "stdout",
     "output_type": "stream",
     "text": [
      "Enter radius: 21\n",
      "Area = 1384.74\n",
      "Circumference: 131.88\n"
     ]
    }
   ],
   "source": [
    "r = int(input('Enter radius: '))\n",
    "\n",
    "area = 3.14 * r * r\n",
    "\n",
    "print(f'Area = {area}')\n",
    "cir = 2*3.14*r\n",
    "\n",
    "print(f'Circumference: {cir}')"
   ]
  },
  {
   "cell_type": "markdown",
   "id": "fe8ff03a",
   "metadata": {},
   "source": [
    "# 07"
   ]
  },
  {
   "cell_type": "code",
   "execution_count": 24,
   "id": "f3085041",
   "metadata": {},
   "outputs": [
    {
     "name": "stdout",
     "output_type": "stream",
     "text": [
      "5\n"
     ]
    }
   ],
   "source": [
    "list = [1,2,3,4,5]\n",
    "print(len(list)) "
   ]
  },
  {
   "cell_type": "markdown",
   "id": "f32b378c",
   "metadata": {},
   "source": [
    "# 08"
   ]
  },
  {
   "cell_type": "code",
   "execution_count": null,
   "id": "1b9e6c88",
   "metadata": {},
   "outputs": [],
   "source": [
    "string = 'hagsjei'\n",
    "\n",
    "print(string.upper())"
   ]
  },
  {
   "cell_type": "markdown",
   "id": "96e1d36e",
   "metadata": {},
   "source": [
    "# 09"
   ]
  },
  {
   "cell_type": "code",
   "execution_count": 7,
   "id": "e4be7834",
   "metadata": {},
   "outputs": [
    {
     "name": "stdout",
     "output_type": "stream",
     "text": [
      "Enter a string: naveen\n",
      "neevan\n"
     ]
    }
   ],
   "source": [
    "string = input('Enter a string: ')\n",
    "print(string[::-1])"
   ]
  },
  {
   "cell_type": "markdown",
   "id": "390ca6e4",
   "metadata": {},
   "source": [
    "# 10"
   ]
  },
  {
   "cell_type": "code",
   "execution_count": 32,
   "id": "a11588ef",
   "metadata": {},
   "outputs": [
    {
     "name": "stdout",
     "output_type": "stream",
     "text": [
      "Enter a string: civic\n",
      "civic is a palindrome\n"
     ]
    }
   ],
   "source": [
    "string = input('Enter a string: ')\n",
    "rstring = string[::-1]\n",
    "\n",
    "if string == rstring:\n",
    "    print(f'{string} is a palindrome')\n",
    "    \n",
    "else:\n",
    "    print(f'{string} is not palindrome')\n",
    "\n"
   ]
  },
  {
   "cell_type": "markdown",
   "id": "54778528",
   "metadata": {},
   "source": [
    "# 11"
   ]
  },
  {
   "cell_type": "code",
   "execution_count": 33,
   "id": "f340c356",
   "metadata": {},
   "outputs": [
    {
     "name": "stdout",
     "output_type": "stream",
     "text": [
      "25\n"
     ]
    }
   ],
   "source": [
    "import random\n",
    "\n",
    "number = random.randint(1,100)\n",
    "\n",
    "print(number)"
   ]
  },
  {
   "cell_type": "markdown",
   "id": "26c7b593",
   "metadata": {},
   "source": [
    "# 12"
   ]
  },
  {
   "cell_type": "code",
   "execution_count": 15,
   "id": "0f0289b5",
   "metadata": {},
   "outputs": [
    {
     "name": "stdout",
     "output_type": "stream",
     "text": [
      "Enter a number: 12\n",
      "12 is an even number.\n"
     ]
    }
   ],
   "source": [
    "number = int(input('Enter a number: '))\n",
    "\n",
    "if number%2 == 0:\n",
    "    print(f'{number} is an even number.')\n",
    "\n",
    "else:\n",
    "    print(f'{number} is an odd number.')"
   ]
  },
  {
   "cell_type": "markdown",
   "id": "ab020b7b",
   "metadata": {},
   "source": [
    "# 13"
   ]
  },
  {
   "cell_type": "code",
   "execution_count": 31,
   "id": "a4a24171",
   "metadata": {},
   "outputs": [
    {
     "name": "stdout",
     "output_type": "stream",
     "text": [
      "Enter comma-separated numbers: 1,2,3,55,2\n",
      "Maximum number of the list is 55\n"
     ]
    }
   ],
   "source": [
    "numbers = input('Enter comma-separated numbers: ')\n",
    "list = []\n",
    "\n",
    "numbers_split = numbers.split(',')\n",
    "\n",
    "for i in numbers_split:\n",
    "       list.append(int(i))\n",
    "        \n",
    "def findMax(list):   \n",
    "    max = list[0]\n",
    "    for i in list:\n",
    "        if i > max:\n",
    "            max = i\n",
    "    return max\n",
    "\n",
    "print(f'Maximum number of the list is {findMax(list)}')\n",
    "            \n",
    "    "
   ]
  },
  {
   "cell_type": "code",
   "execution_count": null,
   "id": "7b18e21e",
   "metadata": {},
   "outputs": [],
   "source": []
  }
 ],
 "metadata": {
  "kernelspec": {
   "display_name": "Python 3 (ipykernel)",
   "language": "python",
   "name": "python3"
  },
  "language_info": {
   "codemirror_mode": {
    "name": "ipython",
    "version": 3
   },
   "file_extension": ".py",
   "mimetype": "text/x-python",
   "name": "python",
   "nbconvert_exporter": "python",
   "pygments_lexer": "ipython3",
   "version": "3.11.5"
  }
 },
 "nbformat": 4,
 "nbformat_minor": 5
}
