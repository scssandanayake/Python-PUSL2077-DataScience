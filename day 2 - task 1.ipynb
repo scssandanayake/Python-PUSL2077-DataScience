{
 "cells": [
  {
   "cell_type": "code",
   "execution_count": 1,
   "id": "f4e90a01",
   "metadata": {},
   "outputs": [
    {
     "name": "stdout",
     "output_type": "stream",
     "text": [
      "enter your namec\n",
      "enter your birth year2001\n",
      "hello c your 23 years old\n"
     ]
    }
   ],
   "source": [
    "name = input(\"enter your name\")\n",
    "dob = int(input(\"enter your birth year\"))\n",
    "\n",
    "age = 2024-dob\n",
    "print(\"hello\",name,\"your\",age,\"years old\")"
   ]
  },
  {
   "cell_type": "code",
   "execution_count": 5,
   "id": "ed5a6ba1",
   "metadata": {},
   "outputs": [
    {
     "name": "stdout",
     "output_type": "stream",
     "text": [
      "input any float value25\n",
      "square root value for the number is 5.0\n"
     ]
    }
   ],
   "source": [
    "import math\n",
    "num1 = float(input(\"input any float value\"))\n",
    "print(\"square root value for the number is\",math.sqrt(num1))"
   ]
  },
  {
   "cell_type": "code",
   "execution_count": 6,
   "id": "694f2728",
   "metadata": {},
   "outputs": [
    {
     "name": "stdout",
     "output_type": "stream",
     "text": [
      "test\n"
     ]
    }
   ],
   "source": [
    "#python functions\n",
    "def output():\n",
    "    print(\"test\")\n",
    "output()"
   ]
  },
  {
   "cell_type": "code",
   "execution_count": 15,
   "id": "c4c008a3",
   "metadata": {},
   "outputs": [
    {
     "name": "stdout",
     "output_type": "stream",
     "text": [
      "enter the first number2\n",
      "enter the second number2\n",
      "the sum is 4\n"
     ]
    }
   ],
   "source": [
    "#functions no return type no parameter\n",
    "#def function_name ()\n",
    "def sum ():\n",
    "    no1 = int(input(\"enter the first number\"))\n",
    "    no2 = int(input(\"enter the second number\"))\n",
    "    total = no1+no2\n",
    "    print(\"the sum is\",total)\n",
    "sum()"
   ]
  },
  {
   "cell_type": "code",
   "execution_count": null,
   "id": "09b12d3f",
   "metadata": {},
   "outputs": [],
   "source": [
    "#functions no return type with parameter\n",
    "#def function_name (a,b)\n",
    "def sum (no1,no2):\n",
    "    total = no1+no2\n",
    "    print(\"the sum is\",total)\n",
    "sum(10,5)"
   ]
  },
  {
   "cell_type": "code",
   "execution_count": 20,
   "id": "468c1a91",
   "metadata": {},
   "outputs": [
    {
     "name": "stdout",
     "output_type": "stream",
     "text": [
      "enter the first number55\n",
      "enter the second number55\n",
      "the sum is 110\n"
     ]
    }
   ],
   "source": [
    "#functions no return type with parameter\n",
    "#def function_name (x,y)\n",
    "def sum (no1,no2):\n",
    "    total = no1+no2\n",
    "    print(\"the sum is\",total)\n",
    "sum(\n",
    "    no1 = int(input(\"enter the first number\")),\n",
    "    no2 = int(input(\"enter the second number\"))\n",
    "   )\n"
   ]
  },
  {
   "cell_type": "code",
   "execution_count": 21,
   "id": "b1eaba31",
   "metadata": {},
   "outputs": [
    {
     "name": "stdout",
     "output_type": "stream",
     "text": [
      "enter the first number5\n",
      "enter the second number5\n"
     ]
    },
    {
     "data": {
      "text/plain": [
       "25"
      ]
     },
     "execution_count": 21,
     "metadata": {},
     "output_type": "execute_result"
    }
   ],
   "source": [
    "#with return types no parameters\n",
    "#def function_name ()\n",
    "#return Variable_values\n",
    "def findmul ():\n",
    "    no1 = int(input(\"enter the first number\"))\n",
    "    no2 = int(input(\"enter the second number\"))\n",
    "    return no1*no2\n",
    "findmul()\n",
    "    "
   ]
  },
  {
   "cell_type": "code",
   "execution_count": 27,
   "id": "03bdf652",
   "metadata": {
    "scrolled": true
   },
   "outputs": [
    {
     "ename": "TypeError",
     "evalue": "sum() missing 2 required positional arguments: 'no1' and 'no2'",
     "output_type": "error",
     "traceback": [
      "\u001b[1;31m---------------------------------------------------------------------------\u001b[0m",
      "\u001b[1;31mTypeError\u001b[0m                                 Traceback (most recent call last)",
      "Cell \u001b[1;32mIn[27], line 9\u001b[0m\n\u001b[0;32m      7\u001b[0m     no2 \u001b[38;5;241m=\u001b[39m \u001b[38;5;28mint\u001b[39m(\u001b[38;5;28minput\u001b[39m(\u001b[38;5;124m\"\u001b[39m\u001b[38;5;124menter the second number\u001b[39m\u001b[38;5;124m\"\u001b[39m))\n\u001b[0;32m      8\u001b[0m     \u001b[38;5;28;01mreturn\u001b[39;00m no1\u001b[38;5;241m+\u001b[39mno2\n\u001b[1;32m----> 9\u001b[0m \u001b[38;5;28msum\u001b[39m()\n",
      "\u001b[1;31mTypeError\u001b[0m: sum() missing 2 required positional arguments: 'no1' and 'no2'"
     ]
    }
   ],
   "source": [
    "#with return types with parameters\n",
    "#def function_name (x,y)\n",
    "#return Variable_values\n",
    "def sum (no1,no2):\n",
    "    print(\"the sum is\",total)\n",
    "    no1 = int(input(\"enter the first number\")),\n",
    "    no2 = int(input(\"enter the second number\"))\n",
    "    return no1+no2\n",
    "sum()"
   ]
  },
  {
   "cell_type": "code",
   "execution_count": null,
   "id": "423ed37c",
   "metadata": {},
   "outputs": [],
   "source": [
    "#dictioanries\n",
    "details= dict()\n",
    "details ['name'] = \"cham\"\n",
    "details ['age'] = 20\n",
    "details ['height'] = 220\n",
    "details ['weight'] = 120\n",
    "print(dict) #there is an error"
   ]
  },
  {
   "cell_type": "code",
   "execution_count": null,
   "id": "aab91a83",
   "metadata": {},
   "outputs": [],
   "source": [
    "temp = ('','',)"
   ]
  },
  {
   "cell_type": "code",
   "execution_count": null,
   "id": "31f99e36",
   "metadata": {},
   "outputs": [],
   "source": []
  }
 ],
 "metadata": {
  "kernelspec": {
   "display_name": "Python 3 (ipykernel)",
   "language": "python",
   "name": "python3"
  },
  "language_info": {
   "codemirror_mode": {
    "name": "ipython",
    "version": 3
   },
   "file_extension": ".py",
   "mimetype": "text/x-python",
   "name": "python",
   "nbconvert_exporter": "python",
   "pygments_lexer": "ipython3",
   "version": "3.11.5"
  }
 },
 "nbformat": 4,
 "nbformat_minor": 5
}
