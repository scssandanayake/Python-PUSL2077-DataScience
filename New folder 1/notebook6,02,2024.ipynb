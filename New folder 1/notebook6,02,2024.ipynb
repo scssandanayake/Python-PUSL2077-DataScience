{
 "cells": [
  {
   "cell_type": "code",
   "execution_count": null,
   "id": "ab62014b",
   "metadata": {},
   "outputs": [],
   "source": [
    "name=input(\"input your name\")\n",
    "year=int(input(\"input your birth year\"))\n",
    "age=2024-year\n",
    "print(name,\"your age is\",age)\n",
    "\n",
    "\n"
   ]
  },
  {
   "cell_type": "code",
   "execution_count": null,
   "id": "04d473c4",
   "metadata": {},
   "outputs": [],
   "source": [
    "import math\n",
    "number=float(input(\"enter number\"))\n",
    "print(math.sqrt(number))\n",
    "\n"
   ]
  },
  {
   "cell_type": "code",
   "execution_count": null,
   "id": "78cfd4ca",
   "metadata": {},
   "outputs": [],
   "source": []
  },
  {
   "cell_type": "code",
   "execution_count": null,
   "id": "2c065fc6",
   "metadata": {},
   "outputs": [],
   "source": []
  },
  {
   "cell_type": "code",
   "execution_count": null,
   "id": "d24cd149",
   "metadata": {},
   "outputs": [],
   "source": []
  }
 ],
 "metadata": {
  "kernelspec": {
   "display_name": "Python 3 (ipykernel)",
   "language": "python",
   "name": "python3"
  },
  "language_info": {
   "codemirror_mode": {
    "name": "ipython",
    "version": 3
   },
   "file_extension": ".py",
   "mimetype": "text/x-python",
   "name": "python",
   "nbconvert_exporter": "python",
   "pygments_lexer": "ipython3",
   "version": "3.11.5"
  }
 },
 "nbformat": 4,
 "nbformat_minor": 5
}
