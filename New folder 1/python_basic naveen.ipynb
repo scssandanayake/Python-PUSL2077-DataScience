{
 "cells": [
  {
   "cell_type": "code",
   "execution_count": 1,
   "id": "e910d85a",
   "metadata": {},
   "outputs": [
    {
     "name": "stdout",
     "output_type": "stream",
     "text": [
      "enter first number: 10\n",
      "enter second number: 20\n",
      "MAX = 20\n"
     ]
    }
   ],
   "source": [
    "num1 = int(input('enter first number: '))\n",
    "num2 = int(input('enter second number: '))\n",
    "if num1>num2 :\n",
    "  max = num1\n",
    "else:\n",
    "  max = num2  \n",
    "\n",
    "print(f'MAX = {max}')"
   ]
  },
  {
   "cell_type": "code",
   "execution_count": 4,
   "id": "b4991f4b",
   "metadata": {},
   "outputs": [
    {
     "name": "stdout",
     "output_type": "stream",
     "text": [
      "Enter a number: -12\n",
      "Enter a positive number!\n",
      "Good job!\n"
     ]
    }
   ],
   "source": [
    "num = int(input('Enter a number: '))\n",
    "\n",
    "if num < 0:\n",
    "    print('Enter a positive number!')\n",
    "print('Good job!')    "
   ]
  },
  {
   "cell_type": "code",
   "execution_count": 5,
   "id": "2016d178",
   "metadata": {},
   "outputs": [
    {
     "name": "stdout",
     "output_type": "stream",
     "text": [
      "Enter a number: -12\n",
      "Enter a positive number!\n"
     ]
    }
   ],
   "source": [
    "num = int(input('Enter a num: '))\n",
    "\n",
    "if num < 0:\n",
    "    print('Enter a positive number!')\n",
    "else:\n",
    "    print('Good job!')"
   ]
  },
  {
   "cell_type": "code",
   "execution_count": 10,
   "id": "3df25e3c",
   "metadata": {},
   "outputs": [
    {
     "name": "stdout",
     "output_type": "stream",
     "text": [
      "Enter your grade: 99\n",
      "Your grade: A\n"
     ]
    }
   ],
   "source": [
    "mark = int(input('Enter your grade: '))\n",
    "\n",
    "if mark >= 75:\n",
    "    grade = 'A'\n",
    "\n",
    "if mark >= 65 and mark <75:\n",
    "    grade = 'B'\n",
    "    \n",
    "if mark >= 50 and mark <65:\n",
    "    grade = 'C'\n",
    "    \n",
    "if mark >= 35 and mark <50:\n",
    "    grade = 'S'\n",
    "\n",
    "if mark < 35:\n",
    "    grade = 'F'\n",
    "    \n",
    "print(f'Your grade: {grade}')    "
   ]
  },
  {
   "cell_type": "code",
   "execution_count": 3,
   "id": "6aee7e03",
   "metadata": {},
   "outputs": [
    {
     "name": "stdout",
     "output_type": "stream",
     "text": [
      "abc xyz\n",
      "abc--xyz\n"
     ]
    }
   ],
   "source": [
    "print('abc','xyz')\n",
    "print('abc','xyz',sep='--')"
   ]
  },
  {
   "cell_type": "code",
   "execution_count": 5,
   "id": "c8996188",
   "metadata": {},
   "outputs": [
    {
     "name": "stdout",
     "output_type": "stream",
     "text": [
      "enter first number: 2\n",
      "enter second number: 3\n"
     ]
    },
    {
     "data": {
      "text/plain": [
       "8"
      ]
     },
     "execution_count": 5,
     "metadata": {},
     "output_type": "execute_result"
    }
   ],
   "source": [
    "num1 = int(input('enter first number: '))\n",
    "num2 = int(input('enter second number: '))\n",
    "\n",
    "pow(num1,num2)"
   ]
  },
  {
   "cell_type": "code",
   "execution_count": 7,
   "id": "8b810734",
   "metadata": {},
   "outputs": [
    {
     "name": "stdout",
     "output_type": "stream",
     "text": [
      "enter first number: 2\n",
      "enter second number: 3\n",
      "2 ** 3 = 8\n"
     ]
    }
   ],
   "source": [
    "num1 = int(input('enter first number: '))\n",
    "num2 = int(input('enter second number: '))\n",
    "\n",
    "power = pow(num1,num2)\n",
    "\n",
    "print(f'{num1} ** {num2} = {power}')"
   ]
  },
  {
   "cell_type": "code",
   "execution_count": 5,
   "id": "7ca1d947",
   "metadata": {},
   "outputs": [
    {
     "name": "stdout",
     "output_type": "stream",
     "text": [
      "7\n"
     ]
    }
   ],
   "source": [
    "import random\n",
    "\n",
    "x = random.randint(1,10)\n",
    "y \n",
    "print(x)"
   ]
  },
  {
   "cell_type": "code",
   "execution_count": 3,
   "id": "a5c74649",
   "metadata": {},
   "outputs": [
    {
     "name": "stdout",
     "output_type": "stream",
     "text": [
      "Enter your name: naveen\n",
      "Enter birth year: 2002\n",
      "naveen you are 22 years old\n"
     ]
    }
   ],
   "source": [
    "import datetime\n",
    "name = input(\"Enter your name: \")\n",
    "by = int(input(\"Enter birth year: \"))\n",
    "\n",
    "today = datetime.date.today()\n",
    "year = today.year\n",
    "\n",
    "age = year - by\n",
    "print(f'{name} you are {age} years old')"
   ]
  },
  {
   "cell_type": "code",
   "execution_count": 5,
   "id": "3eea7c10",
   "metadata": {},
   "outputs": [
    {
     "name": "stdout",
     "output_type": "stream",
     "text": [
      "Enter a float number: 1233.3\n",
      "Root of 1233.3 is 35.11837126063793\n"
     ]
    }
   ],
   "source": [
    "import math\n",
    "a = float(input('Enter a float number: '))\n",
    "print(f'Root of {a} is {math.sqrt(a)}')"
   ]
  },
  {
   "cell_type": "code",
   "execution_count": 14,
   "id": "aa18dff7",
   "metadata": {},
   "outputs": [
    {
     "name": "stdout",
     "output_type": "stream",
     "text": [
      "enter first number: 10\n",
      "enter second number: 10\n",
      "Sum is 20\n"
     ]
    }
   ],
   "source": [
    "x = int(input('enter first number: '))\n",
    "y = int(input('enter second number: '))\n",
    "\n",
    "def findsum(num1,num2):\n",
    "    sum = num1 + num2\n",
    "    return  sum\n",
    "\n",
    "print(f'Sum is {findsum(x,y)}')"
   ]
  },
  {
   "cell_type": "code",
   "execution_count": 13,
   "id": "d8b6a6dd",
   "metadata": {},
   "outputs": [
    {
     "name": "stdout",
     "output_type": "stream",
     "text": [
      "enter first number: 10\n",
      "enter second number: 20\n",
      "Sum is 30\n"
     ]
    }
   ],
   "source": [
    "def findsum2():\n",
    "    num1 = int(input('enter first number: '))\n",
    "    num2 = int(input('enter second number: '))\n",
    "    sum = num1 + num2\n",
    "    print(f'Sum is {sum}')\n",
    "    \n",
    "findsum2()"
   ]
  },
  {
   "cell_type": "code",
   "execution_count": 20,
   "id": "8367acd6",
   "metadata": {},
   "outputs": [
    {
     "name": "stdout",
     "output_type": "stream",
     "text": [
      "enter first number: 2\n",
      "enter second number: 32\n",
      "2*32 = 64\n"
     ]
    }
   ],
   "source": [
    "x = int(input('enter first number: '))\n",
    "y = int(input('enter second number: '))\n",
    "\n",
    "def findmul(num1,num2):\n",
    "    return  num1*num2\n",
    "\n",
    "print(f'{x}*{y} = {findmul(x,y)}')"
   ]
  },
  {
   "cell_type": "code",
   "execution_count": 26,
   "id": "21e164ae",
   "metadata": {},
   "outputs": [
    {
     "name": "stdout",
     "output_type": "stream",
     "text": [
      "1 2 3 4 5 6 7 8 9 10 11 12 13 14 15 16 17 18 19 20 21 22 23 24 25 26 27 28 29 30 31 32 33 34 35 36 37 38 39 40 41 42 43 44 45 46 47 48 49 50 51 52 53 54 55 56 57 58 59 60 61 62 63 64 65 66 67 68 69 70 71 72 73 74 75 76 77 78 79 80 81 82 83 84 85 86 87 88 89 90 91 92 93 94 95 96 97 98 99 100 "
     ]
    }
   ],
   "source": [
    "num = 1\n",
    "while num <=100:\n",
    "    print(num, end= \" \")\n",
    "    num += 1"
   ]
  },
  {
   "cell_type": "code",
   "execution_count": 35,
   "id": "03309601",
   "metadata": {},
   "outputs": [
    {
     "name": "stdout",
     "output_type": "stream",
     "text": [
      "N\n",
      "S\n",
      "B\n",
      "M\n",
      " \n",
      "G\n",
      "r\n",
      "e\n",
      "e\n",
      "n\n",
      " \n",
      "U\n",
      "n\n",
      "i\n",
      "v\n",
      "e\n",
      "r\n",
      "s\n",
      "i\n",
      "t\n",
      "y\n"
     ]
    }
   ],
   "source": [
    "for i in 'NSBM Green University':\n",
    "    print(i)\n",
    "    "
   ]
  },
  {
   "cell_type": "code",
   "execution_count": 37,
   "id": "41a84475",
   "metadata": {},
   "outputs": [
    {
     "name": "stdout",
     "output_type": "stream",
     "text": [
      "1\n",
      "2\n",
      "3\n",
      "4\n",
      "5\n",
      "6\n",
      "7\n",
      "8\n",
      "9\n",
      "10\n"
     ]
    }
   ],
   "source": [
    "for i in range(1,11):\n",
    "    print(i)\n",
    "    "
   ]
  },
  {
   "cell_type": "code",
   "execution_count": 40,
   "id": "5d1f8122",
   "metadata": {},
   "outputs": [
    {
     "name": "stdout",
     "output_type": "stream",
     "text": [
      "White Car\n",
      "White Van\n",
      "White Jeep\n",
      "Red Car\n",
      "Red Van\n",
      "Red Jeep\n",
      "Blue Car\n",
      "Blue Van\n",
      "Blue Jeep\n"
     ]
    }
   ],
   "source": [
    "color = ['White','Red','Blue']\n",
    "vehical = ['Car','Van','Jeep']\n",
    "\n",
    "for i in color:\n",
    "    for j in vehical:\n",
    "        print(f'{i} {j}')"
   ]
  },
  {
   "cell_type": "code",
   "execution_count": 46,
   "id": "84bd6ffa",
   "metadata": {},
   "outputs": [
    {
     "name": "stdout",
     "output_type": "stream",
     "text": [
      "1\n",
      "3\n",
      "5\n",
      "7\n",
      "9\n"
     ]
    }
   ],
   "source": [
    "for i in range(1,11,2):\n",
    "    print(i)"
   ]
  },
  {
   "cell_type": "code",
   "execution_count": 47,
   "id": "37e363dd",
   "metadata": {},
   "outputs": [
    {
     "name": "stdout",
     "output_type": "stream",
     "text": [
      "10\n",
      "9\n",
      "8\n",
      "7\n",
      "6\n",
      "5\n",
      "4\n",
      "3\n",
      "2\n",
      "1\n"
     ]
    }
   ],
   "source": [
    "for i in range(10,0,-1):\n",
    "    print(i)"
   ]
  },
  {
   "cell_type": "code",
   "execution_count": 48,
   "id": "bde51b4c",
   "metadata": {},
   "outputs": [
    {
     "name": "stdout",
     "output_type": "stream",
     "text": [
      "55\n"
     ]
    }
   ],
   "source": [
    "sum = 0\n",
    "\n",
    "for i in range(1,11):\n",
    "    sum += i\n",
    "\n",
    "print(sum)"
   ]
  },
  {
   "cell_type": "code",
   "execution_count": null,
   "id": "d4335be5",
   "metadata": {},
   "outputs": [],
   "source": [
    "#Dictionaties"
   ]
  },
  {
   "cell_type": "code",
   "execution_count": null,
   "id": "33bb94fc",
   "metadata": {},
   "outputs": [],
   "source": []
  },
  {
   "cell_type": "code",
   "execution_count": null,
   "id": "c5c333e4",
   "metadata": {},
   "outputs": [],
   "source": []
  },
  {
   "cell_type": "code",
   "execution_count": null,
   "id": "4fa08482",
   "metadata": {},
   "outputs": [],
   "source": []
  },
  {
   "cell_type": "code",
   "execution_count": 51,
   "id": "999c647c",
   "metadata": {},
   "outputs": [
    {
     "name": "stdout",
     "output_type": "stream",
     "text": [
      "{'1': 'one', '2': 'two', '3': 'three'}\n",
      "one\n"
     ]
    }
   ],
   "source": [
    "term = dict()\n",
    "term['1'] = 'one'                        \n",
    "term['2'] = 'two'\n",
    "term['3'] = 'three'\n",
    "\n",
    "print(term)\n",
    "print(term['1'])"
   ]
  },
  {
   "cell_type": "code",
   "execution_count": 2,
   "id": "0c2d76c3",
   "metadata": {},
   "outputs": [
    {
     "name": "stdout",
     "output_type": "stream",
     "text": [
      "{'color': 'red', 'num': 1, 'shape': 'square'}\n",
      "red\n"
     ]
    }
   ],
   "source": [
    "temp = {'color':'red','num':1,'shape':'square'}                # key : value\n",
    "print(temp)\n",
    "print(temp['color'])"
   ]
  },
  {
   "cell_type": "code",
   "execution_count": null,
   "id": "0d8c2570",
   "metadata": {},
   "outputs": [],
   "source": [
    "#Looping through all key-value pairs"
   ]
  },
  {
   "cell_type": "code",
   "execution_count": 6,
   "id": "1c970ac8",
   "metadata": {},
   "outputs": [
    {
     "name": "stdout",
     "output_type": "stream",
     "text": [
      "eric like 1\n",
      "even like 2\n"
     ]
    }
   ],
   "source": [
    "fav_numbers = {'eric':1, 'even':2}\n",
    "for name,number in fav_numbers.items():\n",
    "    print(f'{name} like {str(number)}')"
   ]
  },
  {
   "cell_type": "code",
   "execution_count": null,
   "id": "3f2489eb",
   "metadata": {},
   "outputs": [],
   "source": [
    "#Looping through only keys"
   ]
  },
  {
   "cell_type": "code",
   "execution_count": 7,
   "id": "c3fb6517",
   "metadata": {},
   "outputs": [
    {
     "name": "stdout",
     "output_type": "stream",
     "text": [
      "eric like number\n",
      "even like number\n"
     ]
    }
   ],
   "source": [
    "fav_numbers = {'eric':1, 'even':2}\n",
    "for name in fav_numbers.keys():\n",
    "    print(f'{name} like number')"
   ]
  },
  {
   "cell_type": "code",
   "execution_count": null,
   "id": "a267dc97",
   "metadata": {},
   "outputs": [],
   "source": [
    "#Looping through only values"
   ]
  },
  {
   "cell_type": "code",
   "execution_count": 8,
   "id": "18f95ce6",
   "metadata": {},
   "outputs": [
    {
     "name": "stdout",
     "output_type": "stream",
     "text": [
      "1 is liked\n",
      "2 is liked\n"
     ]
    }
   ],
   "source": [
    "fav_numbers = {'eric':1, 'even':2}\n",
    "for number in fav_numbers.values():\n",
    "    print(f'{number} is liked')"
   ]
  },
  {
   "cell_type": "code",
   "execution_count": null,
   "id": "d2b738ba",
   "metadata": {},
   "outputs": [],
   "source": [
    "#Tuples"
   ]
  },
  {
   "cell_type": "code",
   "execution_count": null,
   "id": "52a7418f",
   "metadata": {},
   "outputs": [],
   "source": []
  },
  {
   "cell_type": "code",
   "execution_count": null,
   "id": "80e14d0f",
   "metadata": {},
   "outputs": [],
   "source": [
    "tuple_name = (value1,value2,.....)  # It can have only integers, char, nested tuples and with mixed data types"
   ]
  },
  {
   "cell_type": "code",
   "execution_count": null,
   "id": "0f744232",
   "metadata": {},
   "outputs": [],
   "source": []
  },
  {
   "cell_type": "code",
   "execution_count": 9,
   "id": "8a701d3d",
   "metadata": {},
   "outputs": [
    {
     "name": "stdout",
     "output_type": "stream",
     "text": [
      "('test1', 'test2', 'naveeen', 2)\n"
     ]
    }
   ],
   "source": [
    "tuple1 = ('test1', 'test2', 'naveeen' , 2)\n",
    "print(tuple1)"
   ]
  },
  {
   "cell_type": "code",
   "execution_count": 11,
   "id": "2b834d4f",
   "metadata": {},
   "outputs": [
    {
     "data": {
      "text/plain": [
       "('test2', 'naveeen')"
      ]
     },
     "execution_count": 11,
     "metadata": {},
     "output_type": "execute_result"
    }
   ],
   "source": [
    "tuple1[1:3]"
   ]
  },
  {
   "cell_type": "code",
   "execution_count": 15,
   "id": "d5f40531",
   "metadata": {},
   "outputs": [
    {
     "name": "stdout",
     "output_type": "stream",
     "text": [
      "red\n",
      "green\n",
      "blue\n"
     ]
    }
   ],
   "source": [
    "mytuple = ('red','green','blue')\n",
    "for i in mytuple:\n",
    "    print(i)"
   ]
  },
  {
   "cell_type": "code",
   "execution_count": 17,
   "id": "7b718b0d",
   "metadata": {},
   "outputs": [
    {
     "name": "stdout",
     "output_type": "stream",
     "text": [
      "(0, 'red')\n",
      "(1, 'green')\n",
      "(2, 'blue')\n"
     ]
    }
   ],
   "source": [
    "for i in enumerate(mytuple):       # get a output with the index (enumarate)\n",
    "    print(i)"
   ]
  },
  {
   "cell_type": "code",
   "execution_count": 20,
   "id": "49841efa",
   "metadata": {},
   "outputs": [
    {
     "data": {
      "text/plain": [
       "[1, 2, 2, 3, 3, 3, 4, 4, 4, 4, 4, 5, 5, 6]"
      ]
     },
     "execution_count": 20,
     "metadata": {},
     "output_type": "execute_result"
    }
   ],
   "source": [
    "mytuple2 = (1,2,3,4,4,4,5,6,4,3,2,3,4,5)\n",
    "sorted(mytuple2)"
   ]
  },
  {
   "cell_type": "code",
   "execution_count": null,
   "id": "97aaacc1",
   "metadata": {},
   "outputs": [],
   "source": []
  },
  {
   "cell_type": "code",
   "execution_count": null,
   "id": "87aa182c",
   "metadata": {},
   "outputs": [],
   "source": [
    "# Sets"
   ]
  },
  {
   "cell_type": "code",
   "execution_count": null,
   "id": "bf868dad",
   "metadata": {},
   "outputs": [],
   "source": []
  },
  {
   "cell_type": "code",
   "execution_count": 22,
   "id": "93dadfa7",
   "metadata": {},
   "outputs": [],
   "source": [
    "myset = {1,2,3,4,5,6} #Unorderd and Unindexed collection of items, all elements should be unique"
   ]
  },
  {
   "cell_type": "code",
   "execution_count": 24,
   "id": "b8a6f068",
   "metadata": {},
   "outputs": [
    {
     "name": "stdout",
     "output_type": "stream",
     "text": [
      "1 2 3 4 5 6 "
     ]
    }
   ],
   "source": [
    "for i in myset:\n",
    "    print(i, end=\" \")"
   ]
  },
  {
   "cell_type": "code",
   "execution_count": null,
   "id": "9e8a9368",
   "metadata": {},
   "outputs": [],
   "source": [
    "#Set Operations"
   ]
  },
  {
   "cell_type": "code",
   "execution_count": 26,
   "id": "198bff08",
   "metadata": {},
   "outputs": [
    {
     "name": "stdout",
     "output_type": "stream",
     "text": [
      "{1, 2, 3, 4, 5, 6, 7}\n",
      "{1, 2, 3, 4, 5, 6, 7}\n"
     ]
    }
   ],
   "source": [
    "#Union\n",
    "\n",
    "first_set = {1,2,3,4,5}\n",
    "second_set = {1,4,6,7,2}\n",
    "\n",
    "new_set1 = first_set|second_set \n",
    "new_set2 = first_set.union(second_set)\n",
    "\n",
    "print(new_set1)\n",
    "print(new_set2)"
   ]
  },
  {
   "cell_type": "code",
   "execution_count": 27,
   "id": "2fc6f02b",
   "metadata": {},
   "outputs": [
    {
     "name": "stdout",
     "output_type": "stream",
     "text": [
      "{1, 2, 4}\n",
      "{1, 2, 4}\n"
     ]
    }
   ],
   "source": [
    "#Intersection\n",
    "\n",
    "new_set3 = first_set&second_set \n",
    "new_set4 = first_set.intersection(second_set)\n",
    "\n",
    "print(new_set3)\n",
    "print(new_set4)"
   ]
  },
  {
   "cell_type": "code",
   "execution_count": 29,
   "id": "ba13969b",
   "metadata": {},
   "outputs": [
    {
     "name": "stdout",
     "output_type": "stream",
     "text": [
      "{3, 5}\n"
     ]
    }
   ],
   "source": [
    "#Difference\n",
    "\n",
    "new_set5 = first_set.difference(second_set)\n",
    "\n",
    "print(new_set5)"
   ]
  },
  {
   "cell_type": "code",
   "execution_count": 30,
   "id": "87e58b4f",
   "metadata": {},
   "outputs": [
    {
     "name": "stdout",
     "output_type": "stream",
     "text": [
      "{'banana', 'google', 'cherry', 'microsoft'}\n"
     ]
    }
   ],
   "source": [
    "#Symmetric Difference\n",
    "\n",
    "x = {'apple','banana','cherry'}\n",
    "y = {'google','microsoft','apple'}\n",
    "\n",
    "z = x.symmetric_difference(y)\n",
    "\n",
    "print(z)"
   ]
  },
  {
   "cell_type": "code",
   "execution_count": null,
   "id": "098f12f5",
   "metadata": {},
   "outputs": [],
   "source": [
    "# Superset, Subset & Disjoint (https://www.gkindex.com/python-tutorial/python-sets-intro.jsp)"
   ]
  },
  {
   "cell_type": "code",
   "execution_count": null,
   "id": "f76411f7",
   "metadata": {},
   "outputs": [],
   "source": []
  },
  {
   "cell_type": "code",
   "execution_count": null,
   "id": "70804774",
   "metadata": {},
   "outputs": [],
   "source": []
  },
  {
   "cell_type": "code",
   "execution_count": null,
   "id": "87e99ec7",
   "metadata": {},
   "outputs": [],
   "source": [
    "# Anonymous Functions"
   ]
  },
  {
   "cell_type": "code",
   "execution_count": null,
   "id": "88a0ff6d",
   "metadata": {},
   "outputs": [],
   "source": []
  },
  {
   "cell_type": "code",
   "execution_count": null,
   "id": "32732f9b",
   "metadata": {},
   "outputs": [],
   "source": []
  },
  {
   "cell_type": "code",
   "execution_count": 36,
   "id": "dc65b490",
   "metadata": {},
   "outputs": [
    {
     "name": "stdout",
     "output_type": "stream",
     "text": [
      "15\n"
     ]
    }
   ],
   "source": [
    "x=lambda a : a+10                   # x is the function name, a is the variable, a+10 is the operation done by this lambda func\n",
    "print(x(5))"
   ]
  },
  {
   "cell_type": "code",
   "execution_count": 37,
   "id": "17c2917e",
   "metadata": {},
   "outputs": [
    {
     "name": "stdout",
     "output_type": "stream",
     "text": [
      "18\n"
     ]
    }
   ],
   "source": [
    "y=lambda p,q,r : p+q+r                  \n",
    "print(y(5,6,7))"
   ]
  }
 ],
 "metadata": {
  "kernelspec": {
   "display_name": "Python 3 (ipykernel)",
   "language": "python",
   "name": "python3"
  },
  "language_info": {
   "codemirror_mode": {
    "name": "ipython",
    "version": 3
   },
   "file_extension": ".py",
   "mimetype": "text/x-python",
   "name": "python",
   "nbconvert_exporter": "python",
   "pygments_lexer": "ipython3",
   "version": "3.11.5"
  }
 },
 "nbformat": 4,
 "nbformat_minor": 5
}
