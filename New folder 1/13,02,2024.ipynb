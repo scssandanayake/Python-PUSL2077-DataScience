{
 "cells": [
  {
   "cell_type": "code",
   "execution_count": 3,
   "id": "53665907",
   "metadata": {},
   "outputs": [
    {
     "name": "stdout",
     "output_type": "stream",
     "text": [
      "eric  17\n",
      "ever  4\n"
     ]
    }
   ],
   "source": [
    "#dictionary\n",
    "fav_numbers={'eric':17,'ever':4}\n",
    "for name,numbers in fav_numbers.items():\n",
    "    print(name,\"\",str(numbers))\n",
    "\n"
   ]
  },
  {
   "cell_type": "code",
   "execution_count": 4,
   "id": "d503002a",
   "metadata": {},
   "outputs": [],
   "source": [
    "#tuples\n",
    "tup1=(10,20,30)\n",
    "tup2=('one','two','three')\n",
    "\n"
   ]
  },
  {
   "cell_type": "code",
   "execution_count": 8,
   "id": "dbc10f25",
   "metadata": {},
   "outputs": [
    {
     "name": "stdout",
     "output_type": "stream",
     "text": [
      "1\n",
      "2\n",
      "3\n",
      "4\n",
      "5\n",
      "6\n",
      "red\n",
      "green\n",
      "blue\n",
      "black\n",
      "(0, 1)\n",
      "(1, 2)\n",
      "(2, 3)\n",
      "(3, 4)\n",
      "(4, 5)\n",
      "(5, 6)\n",
      "(6, 7)\n"
     ]
    }
   ],
   "source": [
    "#loops with tuples\n",
    "tp1=(1,2,3,4,5,6)\n",
    "for i in tp1:\n",
    "    print(i)\n",
    "tp2=('red','green','blue','black')\n",
    "for i in tp2:\n",
    "    print(i)\n",
    "\n",
    "tp4=(1,2,3,4,5,6,7)\n",
    "for x in enumerate(tp4):\n",
    "    print(x)"
   ]
  },
  {
   "cell_type": "code",
   "execution_count": 13,
   "id": "a7146cf1",
   "metadata": {},
   "outputs": [
    {
     "name": "stdout",
     "output_type": "stream",
     "text": [
      "version 3.11.5 | packaged by Anaconda, Inc. | (main, Sep 11 2023, 13:26:23) [MSC v.1916 64 bit (AMD64)]\n"
     ]
    }
   ],
   "source": [
    "#current version of anaconda libarary\n",
    "import sys\n",
    "print(\"version\",sys.version)"
   ]
  },
  {
   "cell_type": "code",
   "execution_count": 15,
   "id": "204d0fd9",
   "metadata": {},
   "outputs": [
    {
     "name": "stdout",
     "output_type": "stream",
     "text": [
      "current date and time  is 2024-02-13 09:40:22.614201\n"
     ]
    }
   ],
   "source": [
    "#date and type library\n",
    "from datetime import datetime\n",
    "current_dt=datetime.now()\n",
    "print(\"current date and time  is\",current_dt)\n",
    "\n"
   ]
  },
  {
   "cell_type": "code",
   "execution_count": 17,
   "id": "dac97dca",
   "metadata": {},
   "outputs": [
    {
     "name": "stdout",
     "output_type": "stream",
     "text": [
      "input your  first namerr\n",
      "input your second namerr\n",
      "rr   rr\n"
     ]
    }
   ],
   "source": [
    "name1=input(\"input your  first name\")\n",
    "name2=input(\"input your second name\")\n",
    "print(name2,\" \",name1)"
   ]
  },
  {
   "cell_type": "code",
   "execution_count": 21,
   "id": "67feee47",
   "metadata": {},
   "outputs": [
    {
     "name": "stdout",
     "output_type": "stream",
     "text": [
      "enter comma separated nubers1,2,3,4,5,6,7\n",
      "list [1, 2, 3, 4, 5, 6, 7]\n",
      "tuple (1, 2, 3, 4, 5, 6, 7)\n"
     ]
    }
   ],
   "source": [
    "numbers_input=input(\"enter comma separated nubers\")\n",
    "numbers_list=[int(num)for num in numbers_input.split(',')]\n",
    "numbers_tuple=tuple(numbers_list)\n",
    "print(\"list\",numbers_list)\n",
    "print(\"tuple\",numbers_tuple)"
   ]
  },
  {
   "cell_type": "code",
   "execution_count": 23,
   "id": "a39f9796",
   "metadata": {},
   "outputs": [
    {
     "name": "stdout",
     "output_type": "stream",
     "text": [
      "red black\n"
     ]
    }
   ],
   "source": [
    "colour_list=[\"red\",\"green\",\"white\",\"black\"]\n",
    "print(colour_list[0],colour_list[3])"
   ]
  },
  {
   "cell_type": "code",
   "execution_count": 26,
   "id": "7780ef8a",
   "metadata": {},
   "outputs": [
    {
     "name": "stdout",
     "output_type": "stream",
     "text": [
      "{1, 4, 5, 6, 7, 8}\n"
     ]
    }
   ],
   "source": [
    "#\n",
    "first_set={1,5,7,4,5}\n",
    "second_set={4,5,6,7,8}\n",
    "new_set=first_set.union(second_set)\n",
    "print(new_set)"
   ]
  },
  {
   "cell_type": "code",
   "execution_count": 28,
   "id": "e79cab0c",
   "metadata": {},
   "outputs": [
    {
     "name": "stdout",
     "output_type": "stream",
     "text": [
      "{4, 5, 7}\n"
     ]
    }
   ],
   "source": [
    "first_set={1,5,7,4,5}\n",
    "second_set={4,5,6,7,8}\n",
    "new_set=first_set&second_set\n",
    "print(new_set)"
   ]
  },
  {
   "cell_type": "code",
   "execution_count": 30,
   "id": "95350d88",
   "metadata": {},
   "outputs": [
    {
     "name": "stdout",
     "output_type": "stream",
     "text": [
      "{4, 5, 7}\n"
     ]
    }
   ],
   "source": [
    "first_set={1,5,7,4,5}\n",
    "second_set={4,5,6,7,8}\n",
    "new_set=first_set.intersection(second_set)\n",
    "print(new_set)"
   ]
  },
  {
   "cell_type": "code",
   "execution_count": 33,
   "id": "3a7e72b8",
   "metadata": {},
   "outputs": [
    {
     "name": "stdout",
     "output_type": "stream",
     "text": [
      "{1}\n"
     ]
    }
   ],
   "source": [
    "first_set={1,5,7,4,5}\n",
    "second_set={4,5,6,7,8}\n",
    "new_set=first_set.difference(second_set)\n",
    "print(new_set)"
   ]
  },
  {
   "cell_type": "code",
   "execution_count": 38,
   "id": "5ca8aedc",
   "metadata": {},
   "outputs": [
    {
     "name": "stdout",
     "output_type": "stream",
     "text": [
      "{'google', 'microsoft', 'cherry', 'banana'}\n"
     ]
    }
   ],
   "source": [
    "x={\"apple\",\"banana\",\"cherry\"}\n",
    "y={\"google\",\"microsoft\",\"apple\"}\n",
    "z=x.symmetric_difference(y)\n",
    "print(z)"
   ]
  },
  {
   "cell_type": "code",
   "execution_count": 49,
   "id": "b2592bbe",
   "metadata": {},
   "outputs": [
    {
     "ename": "TypeError",
     "evalue": "'int' object is not iterable",
     "output_type": "error",
     "traceback": [
      "\u001b[1;31m---------------------------------------------------------------------------\u001b[0m",
      "\u001b[1;31mTypeError\u001b[0m                                 Traceback (most recent call last)",
      "Cell \u001b[1;32mIn[49], line 8\u001b[0m\n\u001b[0;32m      6\u001b[0m     \u001b[38;5;28;01mreturn\u001b[39;00m small_num\n\u001b[0;32m      7\u001b[0m num_list\u001b[38;5;241m=\u001b[39m[\u001b[38;5;241m11\u001b[39m,\u001b[38;5;241m1\u001b[39m,\u001b[38;5;241m2\u001b[39m,\u001b[38;5;241m3\u001b[39m,\u001b[38;5;241m56\u001b[39m,\u001b[38;5;241m7\u001b[39m]\n\u001b[1;32m----> 8\u001b[0m small\u001b[38;5;241m=\u001b[39mfindmin(num_list)\n\u001b[0;32m      9\u001b[0m \u001b[38;5;28mprint\u001b[39m(small)\n",
      "Cell \u001b[1;32mIn[49], line 5\u001b[0m, in \u001b[0;36mfindmin\u001b[1;34m(nubers)\u001b[0m\n\u001b[0;32m      3\u001b[0m \u001b[38;5;28;01mif\u001b[39;00m \u001b[38;5;129;01mnot\u001b[39;00m numbers:\n\u001b[0;32m      4\u001b[0m     \u001b[38;5;28;01mreturn\u001b[39;00m \u001b[38;5;124m\"\u001b[39m\u001b[38;5;124mlist is empty\u001b[39m\u001b[38;5;124m\"\u001b[39m\n\u001b[1;32m----> 5\u001b[0m small_num\u001b[38;5;241m=\u001b[39m\u001b[38;5;28mmin\u001b[39m(numbers)\n\u001b[0;32m      6\u001b[0m \u001b[38;5;28;01mreturn\u001b[39;00m small_num\n",
      "\u001b[1;31mTypeError\u001b[0m: 'int' object is not iterable"
     ]
    }
   ],
   "source": [
    "#write a programme to find a sallest number in a given ist \n",
    "def findmin(nubers):\n",
    "    if not numbers:\n",
    "        return \"list is empty\"\n",
    "    small_num=min(numbers)\n",
    "    return small_num\n",
    "num_list=[11,1,2,3,56,7]\n",
    "small=findmin(num_list)\n",
    "print(small)\n"
   ]
  },
  {
   "cell_type": "code",
   "execution_count": 53,
   "id": "9856abbc",
   "metadata": {},
   "outputs": [
    {
     "name": "stdout",
     "output_type": "stream",
     "text": [
      "input sentence:ane manda\n",
      "number of words is 2\n"
     ]
    }
   ],
   "source": [
    "#define a function that accepts a sentence  and counts the word  number\n",
    "\n",
    "def count_words(sentence):\n",
    "    words=sentence.split()\n",
    "    return len(words)\n",
    "sen=input(\"input sentence:\")\n",
    "count=count_words(sen)\n",
    "print(\"number of words is\",count)"
   ]
  },
  {
   "cell_type": "code",
   "execution_count": 58,
   "id": "823a95a7",
   "metadata": {},
   "outputs": [
    {
     "name": "stdout",
     "output_type": "stream",
     "text": [
      "15\n"
     ]
    }
   ],
   "source": [
    "#anonymous functions\n",
    "x=lambda a:a+10\n",
    "print(x(5))"
   ]
  },
  {
   "cell_type": "code",
   "execution_count": 64,
   "id": "4bb8d3cb",
   "metadata": {},
   "outputs": [
    {
     "name": "stdout",
     "output_type": "stream",
     "text": [
      "23\n"
     ]
    }
   ],
   "source": [
    "#anonymous functons\n",
    "y=lambda p,q,r:p+q+r\n",
    "print(y(6,8,9))"
   ]
  },
  {
   "cell_type": "code",
   "execution_count": null,
   "id": "c04e6b17",
   "metadata": {},
   "outputs": [],
   "source": [
    "#numpy arrys \n",
    "\n",
    "\n"
   ]
  }
 ],
 "metadata": {
  "kernelspec": {
   "display_name": "Python 3 (ipykernel)",
   "language": "python",
   "name": "python3"
  },
  "language_info": {
   "codemirror_mode": {
    "name": "ipython",
    "version": 3
   },
   "file_extension": ".py",
   "mimetype": "text/x-python",
   "name": "python",
   "nbconvert_exporter": "python",
   "pygments_lexer": "ipython3",
   "version": "3.11.5"
  }
 },
 "nbformat": 4,
 "nbformat_minor": 5
}
