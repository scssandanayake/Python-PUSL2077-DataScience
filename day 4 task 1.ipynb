{
 "cells": [
  {
   "cell_type": "code",
   "execution_count": 1,
   "id": "79f3c8a6",
   "metadata": {},
   "outputs": [
    {
     "name": "stdout",
     "output_type": "stream",
     "text": [
      "this is letter A\n"
     ]
    }
   ],
   "source": [
    "print(\"this is letter A\")"
   ]
  },
  {
   "cell_type": "code",
   "execution_count": 5,
   "id": "f158efaa",
   "metadata": {},
   "outputs": [
    {
     "name": "stdout",
     "output_type": "stream",
     "text": [
      "this is a backlash\"\\\"\n"
     ]
    }
   ],
   "source": [
    "print('this is a backlash\"\\\\\"')"
   ]
  },
  {
   "cell_type": "code",
   "execution_count": null,
   "id": "2a9a037f",
   "metadata": {},
   "outputs": [],
   "source": [
    "#this is how to write a comment is pyhton 3"
   ]
  },
  {
   "cell_type": "code",
   "execution_count": 13,
   "id": "2dcb4ac1",
   "metadata": {},
   "outputs": [
    {
     "name": "stdout",
     "output_type": "stream",
     "text": [
      "my name is Chamara\n",
      "my age is 22\n"
     ]
    }
   ],
   "source": [
    "name = 'Chamara'\n",
    "age = 22\n",
    "print(\"my name is\",name)\n",
    "print(\"my age is\",age)"
   ]
  },
  {
   "cell_type": "code",
   "execution_count": 7,
   "id": "fbab616f",
   "metadata": {},
   "outputs": [
    {
     "name": "stdout",
     "output_type": "stream",
     "text": [
      "Enter number 1: 10\n",
      "Enter number 2: 5\n",
      "15\n",
      "5\n",
      "50\n",
      "2.0\n"
     ]
    }
   ],
   "source": [
    "Num1 = int(input(\"Enter number 1: \"))\n",
    "Num2 = int(input(\"Enter number 2: \"))\n",
    "\n",
    "summo = Num1 + Num2\n",
    "sub = Num1 - Num2\n",
    "multi = Num1 * Num2\n",
    "div = Num1 / Num2\n",
    "\n",
    "print(summo)\n",
    "print(sub)\n",
    "print(multi)\n",
    "print(div)"
   ]
  },
  {
   "cell_type": "code",
   "execution_count": 8,
   "id": "8c354a6b",
   "metadata": {},
   "outputs": [
    {
     "name": "stdout",
     "output_type": "stream",
     "text": [
      "Enter number 1: 5\n",
      "Enter number 2: 5\n"
     ]
    },
    {
     "data": {
      "text/plain": [
       "10"
      ]
     },
     "execution_count": 8,
     "metadata": {},
     "output_type": "execute_result"
    }
   ],
   "source": [
    "Num1 = int(input(\"Enter number 1: \"))\n",
    "Num2 = int(input(\"Enter number 2: \"))\n",
    "\n",
    "Num1 + Num2"
   ]
  },
  {
   "cell_type": "code",
   "execution_count": 11,
   "id": "be6fd136",
   "metadata": {},
   "outputs": [
    {
     "name": "stdout",
     "output_type": "stream",
     "text": [
      "enter value of r:7\n",
      "154.0\n",
      "44.0\n"
     ]
    }
   ],
   "source": [
    "radius = int(input(\"enter value of r:\"))\n",
    "area = 22/7*radius*radius\n",
    "circumference = 2*22/7*radius\n",
    "\n",
    "print(area)\n",
    "print(circumference)"
   ]
  },
  {
   "cell_type": "code",
   "execution_count": 8,
   "id": "fc445b98",
   "metadata": {
    "scrolled": true
   },
   "outputs": [
    {
     "name": "stdout",
     "output_type": "stream",
     "text": [
      "Enter the radius of the circle: 7\n",
      "The circumference of the circle with radius 7.0 is: 43.982297150257104\n"
     ]
    }
   ],
   "source": [
    "import math\n",
    "\n",
    "def calculate_\n",
    "(radius):\n",
    "    circumference = 2 * math.pi * radius\n",
    "    return circumference\n",
    "\n",
    "radius = float(input(\"Enter the radius of the circle: \"))\n",
    "circumference = calculate_circumference(radius)\n",
    "print(f\"The circumference of the circle with radius {radius} is: {circumference}\")"
   ]
  },
  {
   "cell_type": "code",
   "execution_count": 12,
   "id": "be9371aa",
   "metadata": {},
   "outputs": [
    {
     "data": {
      "text/plain": [
       "7"
      ]
     },
     "execution_count": 12,
     "metadata": {},
     "output_type": "execute_result"
    }
   ],
   "source": [
    "name = \"chamara\"\n",
    "len(name)"
   ]
  },
  {
   "cell_type": "code",
   "execution_count": 15,
   "id": "2da5138c",
   "metadata": {},
   "outputs": [
    {
     "name": "stdout",
     "output_type": "stream",
     "text": [
      "CHAMARA\n"
     ]
    }
   ],
   "source": [
    "name = \"chamara\"\n",
    "print(name.upper())"
   ]
  },
  {
   "cell_type": "code",
   "execution_count": 14,
   "id": "10319276",
   "metadata": {},
   "outputs": [
    {
     "data": {
      "text/plain": [
       "'aramahc'"
      ]
     },
     "execution_count": 14,
     "metadata": {},
     "output_type": "execute_result"
    }
   ],
   "source": [
    "txt = \"chamara\" [:: -1]\n",
    "txt\n"
   ]
  },
  {
   "cell_type": "code",
   "execution_count": 9,
   "id": "33fc8453",
   "metadata": {},
   "outputs": [
    {
     "name": "stdout",
     "output_type": "stream",
     "text": [
      "Enter string:dick\n",
      "string is not a palindrome\n"
     ]
    }
   ],
   "source": [
    "string = input(\"Enter string:\")\n",
    "if string==string[::-1]:\n",
    "    print(\"string is a palindrome\")\n",
    "else:\n",
    "    print(\"string is not a palindrome\")"
   ]
  },
  {
   "cell_type": "code",
   "execution_count": 10,
   "id": "cc62dd57",
   "metadata": {},
   "outputs": [
    {
     "name": "stdout",
     "output_type": "stream",
     "text": [
      "random number: 33\n"
     ]
    }
   ],
   "source": [
    "import random\n",
    "ran=random.randint(1,100)\n",
    "print(\"random number:\",ran)"
   ]
  },
  {
   "cell_type": "code",
   "execution_count": null,
   "id": "bd877342",
   "metadata": {},
   "outputs": [],
   "source": [
    "num=int(input(\"Enter number:\"))\n",
    "if num%2==0:\n",
    "    print(num,\" is a even number\")\n",
    "else:\n",
    "    print(num,\" is a odd number\")"
   ]
  },
  {
   "cell_type": "code",
   "execution_count": null,
   "id": "82288531",
   "metadata": {},
   "outputs": [],
   "source": [
    "str= input(\"Enter list: \")\n",
    "num_list = [int(x) for x in str.split(',')]\n",
    "\n",
    "max_value = max(num_list)\n",
    "print(\"Maximum value in the list:\", max_value)"
   ]
  }
 ],
 "metadata": {
  "kernelspec": {
   "display_name": "Python 3 (ipykernel)",
   "language": "python",
   "name": "python3"
  },
  "language_info": {
   "codemirror_mode": {
    "name": "ipython",
    "version": 3
   },
   "file_extension": ".py",
   "mimetype": "text/x-python",
   "name": "python",
   "nbconvert_exporter": "python",
   "pygments_lexer": "ipython3",
   "version": "3.11.5"
  }
 },
 "nbformat": 4,
 "nbformat_minor": 5
}
