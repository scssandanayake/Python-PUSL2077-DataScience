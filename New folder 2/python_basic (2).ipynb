{
 "cells": [
  {
   "cell_type": "code",
   "execution_count": 1,
   "id": "e910d85a",
   "metadata": {},
   "outputs": [
    {
     "name": "stdout",
     "output_type": "stream",
     "text": [
      "enter first number: 10\n",
      "enter second number: 20\n",
      "MAX = 20\n"
     ]
    }
   ],
   "source": [
    "num1 = int(input('enter first number: '))\n",
    "num2 = int(input('enter second number: '))\n",
    "if num1>num2 :\n",
    "  max = num1\n",
    "else:\n",
    "  max = num2  \n",
    "\n",
    "print(f'MAX = {max}')"
   ]
  },
  {
   "cell_type": "code",
   "execution_count": 4,
   "id": "b4991f4b",
   "metadata": {},
   "outputs": [
    {
     "name": "stdout",
     "output_type": "stream",
     "text": [
      "Enter a number: -12\n",
      "Enter a positive number!\n",
      "Good job!\n"
     ]
    }
   ],
   "source": [
    "num = int(input('Enter a number: '))\n",
    "\n",
    "if num < 0:\n",
    "    print('Enter a positive number!')\n",
    "print('Good job!')    "
   ]
  },
  {
   "cell_type": "code",
   "execution_count": 5,
   "id": "2016d178",
   "metadata": {},
   "outputs": [
    {
     "name": "stdout",
     "output_type": "stream",
     "text": [
      "Enter a number: -12\n",
      "Enter a positive number!\n"
     ]
    }
   ],
   "source": [
    "num = int(input('Enter a num: '))\n",
    "\n",
    "if num < 0:\n",
    "    print('Enter a positive number!')\n",
    "else:\n",
    "    print('Good job!')"
   ]
  },
  {
   "cell_type": "code",
   "execution_count": 10,
   "id": "3df25e3c",
   "metadata": {},
   "outputs": [
    {
     "name": "stdout",
     "output_type": "stream",
     "text": [
      "Enter your grade: 99\n",
      "Your grade: A\n"
     ]
    }
   ],
   "source": [
    "mark = int(input('Enter your grade: '))\n",
    "\n",
    "if mark >= 75:\n",
    "    grade = 'A'\n",
    "\n",
    "if mark >= 65 and mark <75:\n",
    "    grade = 'B'\n",
    "    \n",
    "if mark >= 50 and mark <65:\n",
    "    grade = 'C'\n",
    "    \n",
    "if mark >= 35 and mark <50:\n",
    "    grade = 'S'\n",
    "\n",
    "if mark < 35:\n",
    "    grade = 'F'\n",
    "    \n",
    "print(f'Your grade: {grade}')    "
   ]
  },
  {
   "cell_type": "code",
   "execution_count": 3,
   "id": "6aee7e03",
   "metadata": {},
   "outputs": [
    {
     "name": "stdout",
     "output_type": "stream",
     "text": [
      "abc xyz\n",
      "abc--xyz\n"
     ]
    }
   ],
   "source": [
    "print('abc','xyz')\n",
    "print('abc','xyz',sep='--')"
   ]
  },
  {
   "cell_type": "code",
   "execution_count": 5,
   "id": "c8996188",
   "metadata": {},
   "outputs": [
    {
     "name": "stdout",
     "output_type": "stream",
     "text": [
      "enter first number: 2\n",
      "enter second number: 3\n"
     ]
    },
    {
     "data": {
      "text/plain": [
       "8"
      ]
     },
     "execution_count": 5,
     "metadata": {},
     "output_type": "execute_result"
    }
   ],
   "source": [
    "num1 = int(input('enter first number: '))\n",
    "num2 = int(input('enter second number: '))\n",
    "\n",
    "pow(num1,num2)"
   ]
  },
  {
   "cell_type": "code",
   "execution_count": 7,
   "id": "8b810734",
   "metadata": {},
   "outputs": [
    {
     "name": "stdout",
     "output_type": "stream",
     "text": [
      "enter first number: 2\n",
      "enter second number: 3\n",
      "2 ** 3 = 8\n"
     ]
    }
   ],
   "source": [
    "num1 = int(input('enter first number: '))\n",
    "num2 = int(input('enter second number: '))\n",
    "\n",
    "power = pow(num1,num2)\n",
    "\n",
    "print(f'{num1} ** {num2} = {power}')"
   ]
  },
  {
   "cell_type": "code",
   "execution_count": 5,
   "id": "7ca1d947",
   "metadata": {},
   "outputs": [
    {
     "name": "stdout",
     "output_type": "stream",
     "text": [
      "7\n"
     ]
    }
   ],
   "source": [
    "import random\n",
    "\n",
    "x = random.randint(1,10)\n",
    "y \n",
    "print(x)"
   ]
  },
  {
   "cell_type": "code",
   "execution_count": null,
   "id": "a5c74649",
   "metadata": {},
   "outputs": [],
   "source": []
  },
  {
   "cell_type": "code",
   "execution_count": null,
   "id": "3eea7c10",
   "metadata": {},
   "outputs": [],
   "source": []
  }
 ],
 "metadata": {
  "kernelspec": {
   "display_name": "Python 3 (ipykernel)",
   "language": "python",
   "name": "python3"
  },
  "language_info": {
   "codemirror_mode": {
    "name": "ipython",
    "version": 3
   },
   "file_extension": ".py",
   "mimetype": "text/x-python",
   "name": "python",
   "nbconvert_exporter": "python",
   "pygments_lexer": "ipython3",
   "version": "3.11.5"
  }
 },
 "nbformat": 4,
 "nbformat_minor": 5
}
