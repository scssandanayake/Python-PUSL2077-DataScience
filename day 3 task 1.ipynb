{
 "cells": [
  {
   "cell_type": "code",
   "execution_count": null,
   "id": "9f14b14c",
   "metadata": {},
   "outputs": [],
   "source": [
    "for = input(\"ebter your first name\")\n",
    "for = input(\"ebter your last name\")\n",
    "rn = ln+\"\"+fn\n",
    "print(rn)"
   ]
  },
  {
   "cell_type": "code",
   "execution_count": null,
   "id": "880f2719",
   "metadata": {},
   "outputs": [],
   "source": [
    "#sets (un-ordered and un-indexesplitd)\n",
    " "
   ]
  },
  {
   "cell_type": "code",
   "execution_count": 2,
   "id": "10d5a2b8",
   "metadata": {},
   "outputs": [],
   "source": [
    "def findmin(numbers):\n",
    " if not nummbers:\n",
    "    return \"list is empty\"\n",
    " small_num = min (numbers)\n",
    " return small_numeturn"
   ]
  },
  {
   "cell_type": "code",
   "execution_count": 1,
   "id": "a8b61766",
   "metadata": {},
   "outputs": [
    {
     "name": "stdout",
     "output_type": "stream",
     "text": [
      "3\n"
     ]
    }
   ],
   "source": [
    "def wordcount(str):\n",
    " words= str.split();\n",
    " num_words = len (words)\n",
    " return num_words\n",
    "s = \"welcome to pyhton\"\n",
    "cc = wordcount(s)\n",
    "print(cc)"
   ]
  },
  {
   "cell_type": "code",
   "execution_count": null,
   "id": "469a4ec7",
   "metadata": {},
   "outputs": [],
   "source": []
  }
 ],
 "metadata": {
  "kernelspec": {
   "display_name": "Python 3 (ipykernel)",
   "language": "python",
   "name": "python3"
  },
  "language_info": {
   "codemirror_mode": {
    "name": "ipython",
    "version": 3
   },
   "file_extension": ".py",
   "mimetype": "text/x-python",
   "name": "python",
   "nbconvert_exporter": "python",
   "pygments_lexer": "ipython3",
   "version": "3.11.5"
  }
 },
 "nbformat": 4,
 "nbformat_minor": 5
}
