{
 "cells": [
  {
   "cell_type": "code",
   "execution_count": null,
   "metadata": {
    "id": "skD3dG5wSH2Q"
   },
   "outputs": [],
   "source": []
  },
  {
   "cell_type": "markdown",
   "metadata": {
    "id": "bWcVPMsWSUFc"
   },
   "source": [
    "### Statistical Analysis\n",
    "\n",
    "\n",
    "*   Descriptive - dataset.describe(), Data Visualization\n",
    "\n",
    "*   Inferential - Regression, correlation, Time series\n",
    "\n",
    "\n",
    "\n",
    "\n"
   ]
  },
  {
   "cell_type": "markdown",
   "metadata": {
    "id": "ke-1_e81VZC6"
   },
   "source": [
    "# Example 01\n",
    "\n",
    "Relationship between test score and exam scores can be tested using pearson correation"
   ]
  },
  {
   "cell_type": "code",
   "execution_count": null,
   "metadata": {
    "colab": {
     "base_uri": "https://localhost:8080/"
    },
    "id": "SEs8yDKbVvcH",
    "outputId": "0ae4b6b6-79dd-40b7-ad2f-a37c0a9f00dc"
   },
   "outputs": [
    {
     "name": "stdout",
     "output_type": "stream",
     "text": [
      "PearsonRResult(statistic=0.9699027194808526, pvalue=3.4619011945599453e-06)\n"
     ]
    }
   ],
   "source": [
    "import scipy. stats as stats\n",
    "test_scores = [15, 16, 12, 13, 18, 12, 10, 8, 7, 15]\n",
    "exam_scores = [72, 68, 60, 54, 89, 50, 40, 34, 32, 73 ]\n",
    "corr = stats.pearsonr(test_scores, exam_scores)\n",
    "print (corr)\n",
    "\n"
   ]
  },
  {
   "cell_type": "code",
   "execution_count": null,
   "metadata": {
    "colab": {
     "base_uri": "https://localhost:8080/"
    },
    "id": "x9YB-fZzYE-E",
    "outputId": "53cf3458-65ec-4dba-f491-1f223bec5c2b"
   },
   "outputs": [
    {
     "data": {
      "text/plain": [
       "(6.892569132546561, 0.008655478161175739)"
      ]
     },
     "execution_count": 6,
     "metadata": {},
     "output_type": "execute_result"
    }
   ],
   "source": [
    "import numpy as np\n",
    "from scipy. stats import chi2_contingency\n",
    "table = np.array ([[176, 230], [21035, 21018]])\n",
    "chi2_stat = chi2_contingency (table)\n",
    "chi2_stat_statistic = chi2_stat[0]\n",
    "chi2_stat\n",
    "_pvalue = chi2_stat[1]\n",
    "value = chi2_stat_statistic, chi2_stat.pvalue\n",
    "value\n"
   ]
  }
 ],
 "metadata": {
  "colab": {
   "provenance": []
  },
  "kernelspec": {
   "display_name": "Python 3 (ipykernel)",
   "language": "python",
   "name": "python3"
  },
  "language_info": {
   "codemirror_mode": {
    "name": "ipython",
    "version": 3
   },
   "file_extension": ".py",
   "mimetype": "text/x-python",
   "name": "python",
   "nbconvert_exporter": "python",
   "pygments_lexer": "ipython3",
   "version": "3.11.5"
  }
 },
 "nbformat": 4,
 "nbformat_minor": 1
}
