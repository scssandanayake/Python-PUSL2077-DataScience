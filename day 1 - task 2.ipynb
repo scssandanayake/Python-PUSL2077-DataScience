{
 "cells": [
  {
   "cell_type": "code",
   "execution_count": 2,
   "id": "a8112eef",
   "metadata": {},
   "outputs": [
    {
     "name": "stdout",
     "output_type": "stream",
     "text": [
      "enter first number5\n",
      "enter second number6\n",
      "the max is  6\n"
     ]
    }
   ],
   "source": [
    "no1 = int(input(\"enter first number\"))\n",
    "no2 = int(input(\"enter second number\"))\n",
    "if(no1>no2):\n",
    "    max=no1\n",
    "else:\n",
    "    max=no2\n",
    "print(\"the max is \",max)"
   ]
  },
  {
   "cell_type": "code",
   "execution_count": 3,
   "id": "6d41d119",
   "metadata": {},
   "outputs": [
    {
     "name": "stdout",
     "output_type": "stream",
     "text": [
      "True\n",
      "False\n"
     ]
    }
   ],
   "source": [
    "x=10\n",
    "if(x>=5):\n",
    "    print(\"True\")\n",
    "print(\"False\")"
   ]
  },
  {
   "cell_type": "code",
   "execution_count": null,
   "id": "a3c7d3a1",
   "metadata": {},
   "outputs": [],
   "source": [
    "name = input(\"enter your name\")\n",
    "print(name)\n",
    "\n",
    "age = int(input(\"enter your age\"))\n",
    "print(age)\n",
    "\n",
    "print(\"hello\" , name + \"your age is\" ,age)"
   ]
  }
 ],
 "metadata": {
  "kernelspec": {
   "display_name": "Python 3 (ipykernel)",
   "language": "python",
   "name": "python3"
  },
  "language_info": {
   "codemirror_mode": {
    "name": "ipython",
    "version": 3
   },
   "file_extension": ".py",
   "mimetype": "text/x-python",
   "name": "python",
   "nbconvert_exporter": "python",
   "pygments_lexer": "ipython3",
   "version": "3.11.5"
  }
 },
 "nbformat": 4,
 "nbformat_minor": 5
}
